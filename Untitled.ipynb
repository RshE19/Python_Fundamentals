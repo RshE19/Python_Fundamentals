{
 "cells": [
  {
   "cell_type": "code",
   "execution_count": 66,
   "id": "0c13537a-6105-4bd0-acdc-a93baea0fcf9",
   "metadata": {},
   "outputs": [
    {
     "name": "stdout",
     "output_type": "stream",
     "text": [
      "[[ 93  95]\n",
      " [ 84 100]\n",
      " [ 99  87]]\n",
      "[[[ 1  2  3]\n",
      "  [ 4  5  6]]\n",
      "\n",
      " [[ 7  8  9]\n",
      "  [10 11 12]]\n",
      "\n",
      " [[13 14 15]\n",
      "  [16 17 18]]]\n"
     ]
    },
    {
     "data": {
      "text/plain": [
       "array([[[ 1,  2,  3],\n",
       "        [13, 14, 15],\n",
       "        [10, 11, 12]],\n",
       "\n",
       "       [[ 7,  8,  9],\n",
       "        [ 4,  5,  6],\n",
       "        [16, 17, 18]]])"
      ]
     },
     "execution_count": 66,
     "metadata": {},
     "output_type": "execute_result"
    }
   ],
   "source": [
    "import numpy as np\n",
    "arr1=np.array([[4,1,2,4],[1,2,3,4]])\n",
    "arr1.shape\n",
    "arr1.shape=(4,2)\n",
    "arr1.shape\n",
    "arr1.reshape(2,2,2)\n",
    "arr1.shape\n",
    "\n",
    "arr2d=np.array( [[93, 95], [84, 100], [99, 87]])\n",
    "print(arr2d)\n",
    "arr2d[::-1,0]\n",
    "\n",
    "d3_array = np.array([[[0, 1],\n",
    "                     [2, 3]],\n",
    "\n",
    "                    [[4, 5],\n",
    "                     [6, 7]]])\n",
    "d3_array\n",
    "\n",
    "d3_array[1::-1,1,::-1]\n",
    "np.linspace(1,20).size\n",
    "\n",
    "rng=np.random.default_rng()\n",
    "arng=rng.random(size=(3,5,6))\n",
    "[i for i in np.ndenumerate(arng)]\n",
    "arrRMCM=np.array([\n",
    "    [\n",
    "        [1,2,3],\n",
    "        [4,5,6]\n",
    "    ],\n",
    "    [\n",
    "        [7,8,9],\n",
    "        [10,11,12]\n",
    "    ],\n",
    "    [\n",
    "        [13,14,15],\n",
    "        [16,17,18]\n",
    "    ]\n",
    "])\n",
    "print(arrRMCM)\n",
    "arrRMCM.reshape(2,3,3,order='F')\n"
   ]
  },
  {
   "cell_type": "code",
   "execution_count": 7,
   "id": "816b1d19-12f5-404d-93ac-26b3e11a65f6",
   "metadata": {},
   "outputs": [
    {
     "name": "stdout",
     "output_type": "stream",
     "text": [
      "[[-4.  -2.5 -1. ]\n",
      " [ 0.5  2.   3.5]\n",
      " [ 5.   6.5  8. ]]\n"
     ]
    },
    {
     "data": {
      "text/plain": [
       "array([[-4. , -2.5, -1. ],\n",
       "       [ 0.5,  2. ,  3.5],\n",
       "       [ 5. ,  6.5,  8. ]])"
      ]
     },
     "execution_count": 7,
     "metadata": {},
     "output_type": "execute_result"
    }
   ],
   "source": [
    "import numpy as np\n",
    "x=np.array([[ 0.,  1.,  2.],[ 3.,  4.,  5.],[ 6.,  7.,  8.]])\n",
    "y=np.array([[-4. , -3.5, -3. ],[-2.5, -2. , -1.5],[-1. , -0.5, -0. ]])\n",
    "z=x+y\n",
    "print(z)\n",
    "x[0,:]=20.\n",
    "x\n",
    "z"
   ]
  },
  {
   "cell_type": "code",
   "execution_count": 8,
   "id": "b34b1e2e-560d-420d-89b5-e85c3efebae7",
   "metadata": {},
   "outputs": [
    {
     "name": "stdout",
     "output_type": "stream",
     "text": [
      "We have arrv1 as [[0.08723059 0.92467552 0.12903897 0.86867059]\n",
      " [0.37558711 0.09113069 0.26060637 0.69297217]]\n",
      "Using vectorized function, we will multiply all the element of arrv1 with 2 as\n",
      "2 * arrv1 = [[0.17446117 1.84935104 0.25807794 1.73734119]\n",
      " [0.75117423 0.18226137 0.52121274 1.38594435]]\n",
      "We have array arrv2 as\n",
      "[[ 0.79935573 -2.52200126 -0.03387513 -0.22175408]\n",
      " [ 0.30378354  0.50713822 -0.69420846 -0.40155944]]\n",
      "using vectorized functions, we will subtract corresponding element of both these arrays as\n",
      " arrv1-arrv2 = [[-0.71212515  3.44667678  0.1629141   1.09042467]\n",
      " [ 0.07180357 -0.41600753  0.95481482  1.09453161]]\n"
     ]
    }
   ],
   "source": [
    "#Vectorized functions examples\n",
    "import numpy as np\n",
    "rng=np.random.default_rng()\n",
    "arrv1=rng.random((2,4))\n",
    "print(\"We have arrv1 as {}\".format(arrv1))\n",
    "#multiplying 2 with all the elements of an array\n",
    "print(\"Using vectorized function, we will multiply all the element of arrv1 with 2 as\\n2 * arrv1 = {}\".format(2*arrv1))\n",
    "arrv2=rng.normal(size=(2,4))\n",
    "#subtracting corresponding values of 2 arrays\n",
    "print(\"We have array arrv2 as\\n{}\".format(arrv2))\n",
    "print(\"using vectorized functions, we will subtract corresponding element of both these arrays as\\n arrv1-arrv2 = {}\".format(arrv1-arrv2))"
   ]
  }
 ],
 "metadata": {
  "kernelspec": {
   "display_name": "Python 3 (ipykernel)",
   "language": "python",
   "name": "python3"
  },
  "language_info": {
   "codemirror_mode": {
    "name": "ipython",
    "version": 3
   },
   "file_extension": ".py",
   "mimetype": "text/x-python",
   "name": "python",
   "nbconvert_exporter": "python",
   "pygments_lexer": "ipython3",
   "version": "3.11.7"
  }
 },
 "nbformat": 4,
 "nbformat_minor": 5
}
