{
 "cells": [
  {
   "cell_type": "code",
   "execution_count": 66,
   "id": "0c13537a-6105-4bd0-acdc-a93baea0fcf9",
   "metadata": {},
   "outputs": [
    {
     "name": "stdout",
     "output_type": "stream",
     "text": [
      "[[ 93  95]\n",
      " [ 84 100]\n",
      " [ 99  87]]\n",
      "[[[ 1  2  3]\n",
      "  [ 4  5  6]]\n",
      "\n",
      " [[ 7  8  9]\n",
      "  [10 11 12]]\n",
      "\n",
      " [[13 14 15]\n",
      "  [16 17 18]]]\n"
     ]
    },
    {
     "data": {
      "text/plain": [
       "array([[[ 1,  2,  3],\n",
       "        [13, 14, 15],\n",
       "        [10, 11, 12]],\n",
       "\n",
       "       [[ 7,  8,  9],\n",
       "        [ 4,  5,  6],\n",
       "        [16, 17, 18]]])"
      ]
     },
     "execution_count": 66,
     "metadata": {},
     "output_type": "execute_result"
    }
   ],
   "source": [
    "import numpy as np\n",
    "arr1=np.array([[4,1,2,4],[1,2,3,4]])\n",
    "arr1.shape\n",
    "arr1.shape=(4,2)\n",
    "arr1.shape\n",
    "arr1.reshape(2,2,2)\n",
    "arr1.shape\n",
    "\n",
    "arr2d=np.array( [[93, 95], [84, 100], [99, 87]])\n",
    "print(arr2d)\n",
    "arr2d[::-1,0]\n",
    "\n",
    "d3_array = np.array([[[0, 1],\n",
    "                     [2, 3]],\n",
    "\n",
    "                    [[4, 5],\n",
    "                     [6, 7]]])\n",
    "d3_array\n",
    "\n",
    "d3_array[1::-1,1,::-1]\n",
    "np.linspace(1,20).size\n",
    "\n",
    "rng=np.random.default_rng()\n",
    "arng=rng.random(size=(3,5,6))\n",
    "[i for i in np.ndenumerate(arng)]\n",
    "arrRMCM=np.array([\n",
    "    [\n",
    "        [1,2,3],\n",
    "        [4,5,6]\n",
    "    ],\n",
    "    [\n",
    "        [7,8,9],\n",
    "        [10,11,12]\n",
    "    ],\n",
    "    [\n",
    "        [13,14,15],\n",
    "        [16,17,18]\n",
    "    ]\n",
    "])\n",
    "print(arrRMCM)\n",
    "arrRMCM.reshape(2,3,3,order='F')\n"
   ]
  }
 ],
 "metadata": {
  "kernelspec": {
   "display_name": "Python 3 (ipykernel)",
   "language": "python",
   "name": "python3"
  },
  "language_info": {
   "codemirror_mode": {
    "name": "ipython",
    "version": 3
   },
   "file_extension": ".py",
   "mimetype": "text/x-python",
   "name": "python",
   "nbconvert_exporter": "python",
   "pygments_lexer": "ipython3",
   "version": "3.11.7"
  }
 },
 "nbformat": 4,
 "nbformat_minor": 5
}
