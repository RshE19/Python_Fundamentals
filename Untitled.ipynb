{
 "cells": [
  {
   "cell_type": "code",
   "execution_count": 2,
   "id": "0c13537a-6105-4bd0-acdc-a93baea0fcf9",
   "metadata": {},
   "outputs": [
    {
     "name": "stdout",
     "output_type": "stream",
     "text": [
      "[[ 93  95]\n",
      " [ 84 100]\n",
      " [ 99  87]]\n",
      "[[[ 1  2  3]\n",
      "  [ 4  5  6]]\n",
      "\n",
      " [[ 7  8  9]\n",
      "  [10 11 12]]\n",
      "\n",
      " [[13 14 15]\n",
      "  [16 17 18]]]\n"
     ]
    },
    {
     "data": {
      "text/plain": [
       "array([[[ 1,  2,  3],\n",
       "        [13, 14, 15],\n",
       "        [10, 11, 12]],\n",
       "\n",
       "       [[ 7,  8,  9],\n",
       "        [ 4,  5,  6],\n",
       "        [16, 17, 18]]])"
      ]
     },
     "execution_count": 2,
     "metadata": {},
     "output_type": "execute_result"
    }
   ],
   "source": [
    "import numpy as np\n",
    "arr1=np.array([[4,1,2,4],[1,2,3,4]])\n",
    "arr1.shape\n",
    "arr1.shape=(4,2)\n",
    "arr1.shape\n",
    "arr1.reshape(2,2,2)\n",
    "arr1.shape\n",
    "\n",
    "arr2d=np.array( [[93, 95], [84, 100], [99, 87]])\n",
    "print(arr2d)\n",
    "arr2d[::-1,0]\n",
    "\n",
    "d3_array = np.array([[[0, 1],\n",
    "                     [2, 3]],\n",
    "\n",
    "                    [[4, 5],\n",
    "                     [6, 7]]])\n",
    "d3_array\n",
    "\n",
    "d3_array[1::-1,1,::-1]\n",
    "np.linspace(1,20).size\n",
    "\n",
    "rng=np.random.default_rng()\n",
    "arng=rng.random(size=(3,5,6))\n",
    "[i for i in np.ndenumerate(arng)]\n",
    "arrRMCM=np.array([\n",
    "    [\n",
    "        [1,2,3],\n",
    "        [4,5,6]\n",
    "    ],\n",
    "    [\n",
    "        [7,8,9],\n",
    "        [10,11,12]\n",
    "    ],\n",
    "    [\n",
    "        [13,14,15],\n",
    "        [16,17,18]\n",
    "    ]\n",
    "])\n",
    "print(arrRMCM)\n",
    "arrRMCM.reshape(2,3,3,order='F')\n"
   ]
  },
  {
   "cell_type": "code",
   "execution_count": 3,
   "id": "816b1d19-12f5-404d-93ac-26b3e11a65f6",
   "metadata": {},
   "outputs": [
    {
     "name": "stdout",
     "output_type": "stream",
     "text": [
      "[[-4.  -2.5 -1. ]\n",
      " [ 0.5  2.   3.5]\n",
      " [ 5.   6.5  8. ]]\n"
     ]
    },
    {
     "data": {
      "text/plain": [
       "array([[-4. , -2.5, -1. ],\n",
       "       [ 0.5,  2. ,  3.5],\n",
       "       [ 5. ,  6.5,  8. ]])"
      ]
     },
     "execution_count": 3,
     "metadata": {},
     "output_type": "execute_result"
    }
   ],
   "source": [
    "import numpy as np\n",
    "x=np.array([[ 0.,  1.,  2.],[ 3.,  4.,  5.],[ 6.,  7.,  8.]])\n",
    "y=np.array([[-4. , -3.5, -3. ],[-2.5, -2. , -1.5],[-1. , -0.5, -0. ]])\n",
    "z=x+y\n",
    "print(z)\n",
    "x[0,:]=20.\n",
    "x\n",
    "z"
   ]
  },
  {
   "cell_type": "code",
   "execution_count": 4,
   "id": "b34b1e2e-560d-420d-89b5-e85c3efebae7",
   "metadata": {},
   "outputs": [
    {
     "name": "stdout",
     "output_type": "stream",
     "text": [
      "We have arrv1 as [[0.50379635 0.90820341 0.35392362 0.65138419]\n",
      " [0.20615666 0.46763251 0.72346328 0.53609716]]\n",
      "Using vectorized function, we will multiply all the element of arrv1 with 2 as\n",
      "2 * arrv1 = [[1.0075927  1.81640683 0.70784725 1.30276839]\n",
      " [0.41231333 0.93526502 1.44692657 1.07219432]]\n",
      "We have array arrv2 as\n",
      "[[ 0.36886075 -1.34643366 -0.30069808  1.29458619]\n",
      " [-0.47117499  1.00247044  0.37812581  0.73152344]]\n",
      "using vectorized functions, we will subtract corresponding element of both these arrays as\n",
      " arrv1-arrv2 = [[ 0.1349356   2.25463707  0.65462171 -0.643202  ]\n",
      " [ 0.67733165 -0.53483793  0.34533747 -0.19542628]]\n"
     ]
    }
   ],
   "source": [
    "#Vectorized functions examples\n",
    "import numpy as np\n",
    "rng=np.random.default_rng()\n",
    "arrv1=rng.random((2,4))g\n",
    "print(\"We have arrv1 as {}\".format(arrv1))\n",
    "#multiplying 2 with all the elements of an array\n",
    "print(\"Using vectorized function, we will multiply all the element of arrv1 with 2 as\\n2 * arrv1 = {}\".format(2*arrv1))\n",
    "arrv2=rng.normal(size=(2,4))\n",
    "#subtracting corresponding values of 2 arrays\n",
    "print(\"We have array arrv2 as\\n{}\".format(arrv2))\n",
    "print(\"using vectorized functions, we will subtract corresponding element of both these arrays as\\n arrv1-arrv2 = {}\".format(arrv1-arrv2))"
   ]
  },
  {
   "cell_type": "code",
   "execution_count": 5,
   "id": "090848ec-0335-49fb-9de5-b5528b856521",
   "metadata": {},
   "outputs": [
    {
     "data": {
      "text/plain": [
       "array([2.07944154, 2.30258509])"
      ]
     },
     "execution_count": 5,
     "metadata": {},
     "output_type": "execute_result"
    }
   ],
   "source": [
    "x = np.array([[ 0,  1,  2,  3],[ 4,  5,  6,  7],[ 8,  9, 10, 11],[12, 13, 14, 15]])\n",
    "# Take the natural-logarithm of the 1st and 3rd element in the 3rd-row of x, producing a shape-(2,) result.\n",
    "np.log(x[2,::2])"
   ]
  },
  {
   "cell_type": "code",
   "execution_count": 27,
   "id": "2795b5c9-1275-4a5a-a2aa-e327b4efa9b2",
   "metadata": {},
   "outputs": [
    {
     "name": "stdout",
     "output_type": "stream",
     "text": [
      "stringExample\n",
      "[['stringExample']]\n",
      "[1 2 4 1 0]\n",
      "[[1 2 4 0]\n",
      " [0 2 1 5]] (2, 4)\n",
      "[[[1 2 4 1 4]\n",
      "  [0 2 1 2 5]\n",
      "  [9 2 5 7 1]]\n",
      "\n",
      " [[0 2 1 2 4]\n",
      "  [9 2 5 1 2]\n",
      "  [8 6 7 3 1]]] (2, 3, 5)\n"
     ]
    },
    {
     "data": {
      "text/plain": [
       "(10, 3, 1)"
      ]
     },
     "execution_count": 27,
     "metadata": {},
     "output_type": "execute_result"
    }
   ],
   "source": [
    "import numpy as np\n",
    "arr0=np.array('stringExample')\n",
    "print(arr0)\n",
    "print(arr0.reshape((1,1)))\n",
    "arr1=np.array([1,2,4,1,0])\n",
    "print(arr1)\n",
    "arr2=np.array(\n",
    "    [\n",
    "        [1,2,4,0],\n",
    "        [0,2,1,5]\n",
    "    ])\n",
    "print(arr2,arr2.shape)\n",
    "arr3=np.array([\n",
    "    [\n",
    "        [1,2,4,1,4],\n",
    "        [0,2,1,2,5],\n",
    "        [9,2,5,7,1]\n",
    "    ],\n",
    "    [\n",
    "        [0,2,1,2,4],\n",
    "        [9,2,5,1,2],\n",
    "        [8,6,7,3,1]\n",
    "    ]\n",
    "])\n",
    "print(arr3,arr3.shape)\n",
    "arr2.reshape((1,2,2,2))\n",
    "arr3.reshape((5,1,-1)).shape\n",
    "arr3.shape\n",
    "arr3.shape=(10,3,-1)\n",
    "arr3.shape"
   ]
  },
  {
   "cell_type": "code",
   "execution_count": 14,
   "id": "9bc688c5-84c2-4de2-8e1f-3331857a8f88",
   "metadata": {},
   "outputs": [
    {
     "data": {
      "text/plain": [
       "array([-12.        , -11.65891473, -11.31782946, -10.97674419,\n",
       "       -10.63565891, -10.29457364,  -9.95348837,  -9.6124031 ,\n",
       "        -9.27131783,  -8.93023256,  -8.58914729,  -8.24806202,\n",
       "        -7.90697674,  -7.56589147,  -7.2248062 ,  -6.88372093,\n",
       "        -6.54263566,  -6.20155039,  -5.86046512,  -5.51937984,\n",
       "        -5.17829457,  -4.8372093 ,  -4.49612403,  -4.15503876,\n",
       "        -3.81395349,  -3.47286822,  -3.13178295,  -2.79069767,\n",
       "        -2.4496124 ,  -2.10852713,  -1.76744186,  -1.42635659,\n",
       "        -1.08527132,  -0.74418605,  -0.40310078,  -0.0620155 ,\n",
       "         0.27906977,   0.62015504,   0.96124031,   1.30232558,\n",
       "         1.64341085,   1.98449612,   2.3255814 ,   2.66666667,\n",
       "         3.00775194,   3.34883721,   3.68992248,   4.03100775,\n",
       "         4.37209302,   4.71317829,   5.05426357,   5.39534884,\n",
       "         5.73643411,   6.07751938,   6.41860465,   6.75968992,\n",
       "         7.10077519,   7.44186047,   7.78294574,   8.12403101,\n",
       "         8.46511628,   8.80620155,   9.14728682,   9.48837209,\n",
       "         9.82945736,  10.17054264,  10.51162791,  10.85271318,\n",
       "        11.19379845,  11.53488372,  11.87596899,  12.21705426,\n",
       "        12.55813953,  12.89922481,  13.24031008,  13.58139535,\n",
       "        13.92248062,  14.26356589,  14.60465116,  14.94573643,\n",
       "        15.28682171,  15.62790698,  15.96899225,  16.31007752,\n",
       "        16.65116279,  16.99224806,  17.33333333,  17.6744186 ,\n",
       "        18.01550388,  18.35658915,  18.69767442,  19.03875969,\n",
       "        19.37984496,  19.72093023,  20.0620155 ,  20.40310078,\n",
       "        20.74418605,  21.08527132,  21.42635659,  21.76744186,\n",
       "        22.10852713,  22.4496124 ,  22.79069767,  23.13178295,\n",
       "        23.47286822,  23.81395349,  24.15503876,  24.49612403,\n",
       "        24.8372093 ,  25.17829457,  25.51937984,  25.86046512,\n",
       "        26.20155039,  26.54263566,  26.88372093,  27.2248062 ,\n",
       "        27.56589147,  27.90697674,  28.24806202,  28.58914729,\n",
       "        28.93023256,  29.27131783,  29.6124031 ,  29.95348837,\n",
       "        30.29457364,  30.63565891,  30.97674419,  31.31782946,\n",
       "        31.65891473,  32.        ])"
      ]
     },
     "execution_count": 14,
     "metadata": {},
     "output_type": "execute_result"
    }
   ],
   "source": [
    "import numpy as np\n",
    "arr0=np.array('sadjhdsad')\n",
    "arr1=np.array([1,2,3,4])\n",
    "arr1.shape\n",
    "arr2=np.array([\n",
    "    [1,2,3],\n",
    "    [1,2,4]\n",
    "])\n",
    "arr3=np.array([\n",
    "    [\n",
    "        [1,2,3,4],\n",
    "        [5,6,7,8]\n",
    "    ],\n",
    "    [\n",
    "        [1,3,5,7],\n",
    "        [2,4,6,8]\n",
    "    ]\n",
    "])\n",
    "arr3[0,::-1,:3]\n",
    "arr0s=np.zeros((4,3))\n",
    "arr1s=np.ones((3,5))\n",
    "arrar=np.arange(0.,24,step=1.5)\n",
    "arrlin=np.linspace(-12,32,num=130)\n",
    "arrlin"
   ]
  },
  {
   "cell_type": "code",
   "execution_count": 13,
   "id": "5a8cc06d-6a97-4e7a-8876-34a6af1534a2",
   "metadata": {},
   "outputs": [
    {
     "data": {
      "text/plain": [
       "array([[[[1, 2, 3, 4],\n",
       "         [5, 6, 7, 8]]],\n",
       "\n",
       "\n",
       "       [[[9, 9, 1, 0],\n",
       "         [0, 0, 0, 0]]]])"
      ]
     },
     "execution_count": 13,
     "metadata": {},
     "output_type": "execute_result"
    }
   ],
   "source": [
    "import numpy as np\n",
    "arr0=np.array('astldkl')\n",
    "arr1=np.array([1,2,3,4,5])\n",
    "arr2=np.array([[1,2,3,4],[5,6,7,8],[9,9,1,0],[0,0,0,0,]])\n",
    "arr3=np.array([\n",
    "    [\n",
    "        [1,2,4,5],\n",
    "        [5,6,3,1]\n",
    "    ],\n",
    "    [\n",
    "        [0,4,1,5],\n",
    "        [9,8,2,1]\n",
    "    ]\n",
    "])\n",
    "arr3.reshape(8,2,1).shape\n",
    "arr3.shape\n",
    "arr3.reshape(2,2,2,2)\n",
    "arr2.reshape(2,1,2,-1)"
   ]
  }
 ],
 "metadata": {
  "kernelspec": {
   "display_name": "Python 3 (ipykernel)",
   "language": "python",
   "name": "python3"
  },
  "language_info": {
   "codemirror_mode": {
    "name": "ipython",
    "version": 3
   },
   "file_extension": ".py",
   "mimetype": "text/x-python",
   "name": "python",
   "nbconvert_exporter": "python",
   "pygments_lexer": "ipython3",
   "version": "3.11.7"
  }
 },
 "nbformat": 4,
 "nbformat_minor": 5
}
