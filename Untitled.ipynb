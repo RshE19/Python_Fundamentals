{
 "cells": [
  {
   "cell_type": "code",
   "execution_count": 2,
   "id": "0c13537a-6105-4bd0-acdc-a93baea0fcf9",
   "metadata": {},
   "outputs": [
    {
     "name": "stdout",
     "output_type": "stream",
     "text": [
      "[[ 93  95]\n",
      " [ 84 100]\n",
      " [ 99  87]]\n",
      "[[[ 1  2  3]\n",
      "  [ 4  5  6]]\n",
      "\n",
      " [[ 7  8  9]\n",
      "  [10 11 12]]\n",
      "\n",
      " [[13 14 15]\n",
      "  [16 17 18]]]\n"
     ]
    },
    {
     "data": {
      "text/plain": [
       "array([[[ 1,  2,  3],\n",
       "        [13, 14, 15],\n",
       "        [10, 11, 12]],\n",
       "\n",
       "       [[ 7,  8,  9],\n",
       "        [ 4,  5,  6],\n",
       "        [16, 17, 18]]])"
      ]
     },
     "execution_count": 2,
     "metadata": {},
     "output_type": "execute_result"
    }
   ],
   "source": [
    "import numpy as np\n",
    "arr1=np.array([[4,1,2,4],[1,2,3,4]])\n",
    "arr1.shape\n",
    "arr1.shape=(4,2)\n",
    "arr1.shape\n",
    "arr1.reshape(2,2,2)\n",
    "arr1.shape\n",
    "\n",
    "arr2d=np.array( [[93, 95], [84, 100], [99, 87]])\n",
    "print(arr2d)\n",
    "arr2d[::-1,0]\n",
    "\n",
    "d3_array = np.array([[[0, 1],\n",
    "                     [2, 3]],\n",
    "\n",
    "                    [[4, 5],\n",
    "                     [6, 7]]])\n",
    "d3_array\n",
    "\n",
    "d3_array[1::-1,1,::-1]\n",
    "np.linspace(1,20).size\n",
    "\n",
    "rng=np.random.default_rng()\n",
    "arng=rng.random(size=(3,5,6))\n",
    "[i for i in np.ndenumerate(arng)]\n",
    "arrRMCM=np.array([\n",
    "    [\n",
    "        [1,2,3],\n",
    "        [4,5,6]\n",
    "    ],\n",
    "    [\n",
    "        [7,8,9],\n",
    "        [10,11,12]\n",
    "    ],\n",
    "    [\n",
    "        [13,14,15],\n",
    "        [16,17,18]\n",
    "    ]\n",
    "])\n",
    "print(arrRMCM)\n",
    "arrRMCM.reshape(2,3,3,order='F')\n"
   ]
  },
  {
   "cell_type": "code",
   "execution_count": 3,
   "id": "816b1d19-12f5-404d-93ac-26b3e11a65f6",
   "metadata": {},
   "outputs": [
    {
     "name": "stdout",
     "output_type": "stream",
     "text": [
      "[[-4.  -2.5 -1. ]\n",
      " [ 0.5  2.   3.5]\n",
      " [ 5.   6.5  8. ]]\n"
     ]
    },
    {
     "data": {
      "text/plain": [
       "array([[-4. , -2.5, -1. ],\n",
       "       [ 0.5,  2. ,  3.5],\n",
       "       [ 5. ,  6.5,  8. ]])"
      ]
     },
     "execution_count": 3,
     "metadata": {},
     "output_type": "execute_result"
    }
   ],
   "source": [
    "import numpy as np\n",
    "x=np.array([[ 0.,  1.,  2.],[ 3.,  4.,  5.],[ 6.,  7.,  8.]])\n",
    "y=np.array([[-4. , -3.5, -3. ],[-2.5, -2. , -1.5],[-1. , -0.5, -0. ]])\n",
    "z=x+y\n",
    "print(z)\n",
    "x[0,:]=20.\n",
    "x\n",
    "z"
   ]
  },
  {
   "cell_type": "code",
   "execution_count": 4,
   "id": "b34b1e2e-560d-420d-89b5-e85c3efebae7",
   "metadata": {},
   "outputs": [
    {
     "name": "stdout",
     "output_type": "stream",
     "text": [
      "We have arrv1 as [[0.50379635 0.90820341 0.35392362 0.65138419]\n",
      " [0.20615666 0.46763251 0.72346328 0.53609716]]\n",
      "Using vectorized function, we will multiply all the element of arrv1 with 2 as\n",
      "2 * arrv1 = [[1.0075927  1.81640683 0.70784725 1.30276839]\n",
      " [0.41231333 0.93526502 1.44692657 1.07219432]]\n",
      "We have array arrv2 as\n",
      "[[ 0.36886075 -1.34643366 -0.30069808  1.29458619]\n",
      " [-0.47117499  1.00247044  0.37812581  0.73152344]]\n",
      "using vectorized functions, we will subtract corresponding element of both these arrays as\n",
      " arrv1-arrv2 = [[ 0.1349356   2.25463707  0.65462171 -0.643202  ]\n",
      " [ 0.67733165 -0.53483793  0.34533747 -0.19542628]]\n"
     ]
    }
   ],
   "source": [
    "#Vectorized functions examples\n",
    "import numpy as np\n",
    "rng=np.random.default_rng()\n",
    "arrv1=rng.random((2,4))\n",
    "print(\"We have arrv1 as {}\".format(arrv1))\n",
    "#multiplying 2 with all the elements of an array\n",
    "print(\"Using vectorized function, we will multiply all the element of arrv1 with 2 as\\n2 * arrv1 = {}\".format(2*arrv1))\n",
    "arrv2=rng.normal(size=(2,4))\n",
    "#subtracting corresponding values of 2 arrays\n",
    "print(\"We have array arrv2 as\\n{}\".format(arrv2))\n",
    "print(\"using vectorized functions, we will subtract corresponding element of both these arrays as\\n arrv1-arrv2 = {}\".format(arrv1-arrv2))"
   ]
  },
  {
   "cell_type": "code",
   "execution_count": 5,
   "id": "090848ec-0335-49fb-9de5-b5528b856521",
   "metadata": {},
   "outputs": [
    {
     "data": {
      "text/plain": [
       "array([2.07944154, 2.30258509])"
      ]
     },
     "execution_count": 5,
     "metadata": {},
     "output_type": "execute_result"
    }
   ],
   "source": [
    "x = np.array([[ 0,  1,  2,  3],[ 4,  5,  6,  7],[ 8,  9, 10, 11],[12, 13, 14, 15]])\n",
    "# Take the natural-logarithm of the 1st and 3rd element in the 3rd-row of x, producing a shape-(2,) result.\n",
    "np.log(x[2,::2])"
   ]
  },
  {
   "cell_type": "code",
   "execution_count": 27,
   "id": "2795b5c9-1275-4a5a-a2aa-e327b4efa9b2",
   "metadata": {},
   "outputs": [
    {
     "name": "stdout",
     "output_type": "stream",
     "text": [
      "stringExample\n",
      "[['stringExample']]\n",
      "[1 2 4 1 0]\n",
      "[[1 2 4 0]\n",
      " [0 2 1 5]] (2, 4)\n",
      "[[[1 2 4 1 4]\n",
      "  [0 2 1 2 5]\n",
      "  [9 2 5 7 1]]\n",
      "\n",
      " [[0 2 1 2 4]\n",
      "  [9 2 5 1 2]\n",
      "  [8 6 7 3 1]]] (2, 3, 5)\n"
     ]
    },
    {
     "data": {
      "text/plain": [
       "(10, 3, 1)"
      ]
     },
     "execution_count": 27,
     "metadata": {},
     "output_type": "execute_result"
    }
   ],
   "source": [
    "import numpy as np\n",
    "arr0=np.array('stringExample')\n",
    "print(arr0)\n",
    "print(arr0.reshape((1,1)))\n",
    "arr1=np.array([1,2,4,1,0])\n",
    "print(arr1)\n",
    "arr2=np.array(\n",
    "    [\n",
    "        [1,2,4,0],\n",
    "        [0,2,1,5]\n",
    "    ])\n",
    "print(arr2,arr2.shape)\n",
    "arr3=np.array([\n",
    "    [\n",
    "        [1,2,4,1,4],\n",
    "        [0,2,1,2,5],\n",
    "        [9,2,5,7,1]\n",
    "    ],\n",
    "    [\n",
    "        [0,2,1,2,4],\n",
    "        [9,2,5,1,2],\n",
    "        [8,6,7,3,1]\n",
    "    ]\n",
    "])\n",
    "print(arr3,arr3.shape)\n",
    "arr2.reshape((1,2,2,2))\n",
    "arr3.reshape((5,1,-1)).shape\n",
    "arr3.shape\n",
    "arr3.shape=(10,3,-1)\n",
    "arr3.shape"
   ]
  }
 ],
 "metadata": {
  "kernelspec": {
   "display_name": "Python 3 (ipykernel)",
   "language": "python",
   "name": "python3"
  },
  "language_info": {
   "codemirror_mode": {
    "name": "ipython",
    "version": 3
   },
   "file_extension": ".py",
   "mimetype": "text/x-python",
   "name": "python",
   "nbconvert_exporter": "python",
   "pygments_lexer": "ipython3",
   "version": "3.10.6"
  }
 },
 "nbformat": 4,
 "nbformat_minor": 5
}
