{
 "cells": [
  {
   "cell_type": "code",
   "execution_count": 10,
   "id": "0c13537a-6105-4bd0-acdc-a93baea0fcf9",
   "metadata": {},
   "outputs": [
    {
     "data": {
      "text/plain": [
       "(4, 2)"
      ]
     },
     "execution_count": 10,
     "metadata": {},
     "output_type": "execute_result"
    }
   ],
   "source": [
    "import numpy as np\n",
    "arr1=np.array([[4,1,2,4],[1,2,3,4]])\n",
    "arr1.shape\n",
    "arr1.shape=(4,2)\n",
    "arr1.shape\n",
    "arr1.reshape(2,2,2)\n",
    "arr1.shape"
   ]
  }
 ],
 "metadata": {
  "kernelspec": {
   "display_name": "Python 3 (ipykernel)",
   "language": "python",
   "name": "python3"
  },
  "language_info": {
   "codemirror_mode": {
    "name": "ipython",
    "version": 3
   },
   "file_extension": ".py",
   "mimetype": "text/x-python",
   "name": "python",
   "nbconvert_exporter": "python",
   "pygments_lexer": "ipython3",
   "version": "3.11.7"
  }
 },
 "nbformat": 4,
 "nbformat_minor": 5
}
