{
 "cells": [
  {
   "cell_type": "markdown",
   "id": "fe09ba01-5a25-47e4-bec3-a170be6dfeb9",
   "metadata": {},
   "source": [
    "##### NumPy is a general-purpose array-processing package. It provides a high-performance multidimensional array object, and tools for working with these arrays. It is the fundamental package for scientific computing with Python\n",
    "\n",
    "An array is a data structure that stores values of same data type. In Python, this is the main difference between arrays and lists. While python lists can contain values corresponding to different data types, arrays in python can only contain values corresponding to same data type\n"
   ]
  },
  {
   "cell_type": "markdown",
   "id": "7ca68d48-c6f8-412d-8fbb-0e985a5288fe",
   "metadata": {},
   "source": [
    "Arrays can store values of a single datatype.\n",
    "To create a numpy array, we need to first import the numpy library. Then we use the array() function of this library to create a N-dimensional array."
   ]
  },
  {
   "cell_type": "code",
   "execution_count": 1,
   "id": "577956a1-1b67-43ae-b8db-85ab15a0954e",
   "metadata": {},
   "outputs": [
    {
     "name": "stdout",
     "output_type": "stream",
     "text": [
      "1\n",
      "alksdhas\n",
      "<class 'numpy.ndarray'>\n"
     ]
    }
   ],
   "source": [
    "import numpy as np\n",
    "#creating a 0 dimensional array\n",
    "arr0=np.array(1)\n",
    "print(arr0)\n",
    "arr0=np.array('alksdhas')\n",
    "print(arr0)\n",
    "\n",
    "print(type(arr0))"
   ]
  },
  {
   "cell_type": "code",
   "execution_count": 2,
   "id": "ba904fce-0a43-493d-bf0d-8dd3957c1fee",
   "metadata": {},
   "outputs": [
    {
     "name": "stdout",
     "output_type": "stream",
     "text": [
      "[1 2 3 1 4 9]\n",
      "(7,)\n"
     ]
    }
   ],
   "source": [
    "#Creating a 1-D array\n",
    "#using a list\n",
    "arr1=np.array([1,2,3,1,4,9])\n",
    "print(arr1)\n",
    "#using a tuple\n",
    "arr1=np.array((1,2,3,1,41,2,0))\n",
    "print(arr1.shape)"
   ]
  },
  {
   "cell_type": "markdown",
   "id": "50a1a9aa-f916-4d18-a165-85cb6980b888",
   "metadata": {},
   "source": [
    "while creating an array of more than one dimension it is important to ensure that each list inside the array has the same number of items.\n",
    "If not, numpy.array() function will throw an error while creating the array"
   ]
  },
  {
   "cell_type": "code",
   "execution_count": 3,
   "id": "4fadf585-2807-4c7d-b598-0c33d136bd36",
   "metadata": {},
   "outputs": [
    {
     "name": "stdout",
     "output_type": "stream",
     "text": [
      "arr21: [[1 2 3 1 4]\n",
      " [1 2 3 1 2]\n",
      " [1 2 1 2 3]]\n",
      "arr22: [[0 1 2 1 3]\n",
      " [1 2 1 2 3]\n",
      " [0 1 2 3 1]]\n"
     ]
    }
   ],
   "source": [
    "#Creating a 2-D array\n",
    "list1=[1,2,3,1,4]\n",
    "list2=[1,2,3,1,2]\n",
    "list3=[1,2,1,2,3]\n",
    "arr21=np.array([list1,list2,list3])\n",
    "print(\"arr21:\",arr21)\n",
    "\n",
    "arr22=np.array([[0,1,2,1,3],[1,2,1,2,3],[0,1,2,3,1]])\n",
    "print(\"arr22:\",arr22)\n",
    "\n",
    "#creating an array with each list inside the array having unequal number of items\n",
    "# arr23=np.array([[1,2,1,2,1],[1,2]])"
   ]
  },
  {
   "cell_type": "code",
   "execution_count": 4,
   "id": "c2a4e789-0f71-4174-b598-e3c8d7d5e230",
   "metadata": {},
   "outputs": [
    {
     "name": "stdout",
     "output_type": "stream",
     "text": [
      "arr31: [[[1 2 1]\n",
      "  [1 2 3]\n",
      "  [3 4 5]]\n",
      "\n",
      " [[0 1 2]\n",
      "  [3 4 5]\n",
      "  [4 5 6]]]\n",
      "arr32: [[[1 2 3 1 4]\n",
      "  [1 2 3 1 2]]\n",
      "\n",
      " [[1 2 1 2 3]\n",
      "  [0 1 2 3 4]]]\n"
     ]
    }
   ],
   "source": [
    "#Creating a 3-d array\n",
    "arr31=np.array([[[1,2,1],[1,2,3],[3,4,5]],[[0,1,2],[3,4,5],[4,5,6]]])\n",
    "print(\"arr31:\",arr31)\n",
    "list4=[0,1,2,3,4]\n",
    "arr32=np.array([[list1,list2],[list3,list4]])\n",
    "print(\"arr32:\",arr32)"
   ]
  },
  {
   "cell_type": "markdown",
   "id": "5c6d86a8-1fec-4004-b2bf-c149e3c69c8d",
   "metadata": {},
   "source": [
    "We can use the array attribute \"shape\" to know the number of dimensions in an array along with the lengths of each dimension."
   ]
  },
  {
   "cell_type": "markdown",
   "id": "40eb198f-0428-4baf-8344-6b52b49a5e35",
   "metadata": {},
   "source": [
    "It will return a tuple.\n",
    "For a 1-d array it will list the number of item in the array."
   ]
  },
  {
   "cell_type": "markdown",
   "id": "5606cf73-3df5-4c15-9905-0c5c289d7bc1",
   "metadata": {},
   "source": [
    "for a 2-d array it will list the number of rows and columns in the array, with the first element in the tuple being the count of rows and the second being the count of columns"
   ]
  },
  {
   "cell_type": "code",
   "execution_count": 5,
   "id": "d43e0603-5793-4b43-986a-f20c23022203",
   "metadata": {},
   "outputs": [
    {
     "name": "stdout",
     "output_type": "stream",
     "text": [
      "The shape of arr0 is  ()\n",
      "The shape of arr1 is  (7,)\n",
      "The shape of arr21 is  (3, 5)\n",
      "The shape of arr31 is  (2, 3, 3)\n",
      "The shape of arr32 is  (2, 2, 5)\n"
     ]
    }
   ],
   "source": [
    "#using arr.shape \n",
    "print(\"The shape of arr0 is \", arr0.shape)\n",
    "print(\"The shape of arr1 is \", arr1.shape)\n",
    "print(\"The shape of arr21 is \", arr21.shape)\n",
    "print(\"The shape of arr31 is \", arr31.shape)\n",
    "print(\"The shape of arr32 is \", arr32.shape)"
   ]
  },
  {
   "cell_type": "markdown",
   "id": "aac05a15-fe93-49b5-aad0-5b2206d77a2d",
   "metadata": {},
   "source": [
    "we can use the reshape() function to reshape the array and change the dimensionality of an array without changing the data in it.\n"
   ]
  },
  {
   "cell_type": "code",
   "execution_count": 6,
   "id": "466d19f7-e95e-4446-bcfe-8979877156a6",
   "metadata": {},
   "outputs": [
    {
     "name": "stdout",
     "output_type": "stream",
     "text": [
      "Reshaping arr0 using arr0.reshape(1,):\n",
      " ['alksdhas']\n",
      "reshaping arr1 as arr1.reshape(1,7):\n",
      " [[ 1  2  3  1 41  2  0]]\n",
      "reshaping arr1 as arr1.reshape(7,1):\n",
      " [[ 1]\n",
      " [ 2]\n",
      " [ 3]\n",
      " [ 1]\n",
      " [41]\n",
      " [ 2]\n",
      " [ 0]]\n",
      "reshaping arr21 as arr21.reshape(1,15):\n",
      " [[1 2 3 1 4 1 2 3 1 2 1 2 1 2 3]]\n",
      "reshaping arr21 as arr21.reshape(15,1):\n",
      " [[1]\n",
      " [2]\n",
      " [3]\n",
      " [1]\n",
      " [4]\n",
      " [1]\n",
      " [2]\n",
      " [3]\n",
      " [1]\n",
      " [2]\n",
      " [1]\n",
      " [2]\n",
      " [1]\n",
      " [2]\n",
      " [3]]\n",
      "reshaping arr21 as arr21.reshape(5,3):\n",
      " [[1 2 3]\n",
      " [1 4 1]\n",
      " [2 3 1]\n",
      " [2 1 2]\n",
      " [1 2 3]]\n",
      "reshaping arr31 as arr31.reshape(18,1,1):\n",
      " [[[1]]\n",
      "\n",
      " [[2]]\n",
      "\n",
      " [[1]]\n",
      "\n",
      " [[1]]\n",
      "\n",
      " [[2]]\n",
      "\n",
      " [[3]]\n",
      "\n",
      " [[3]]\n",
      "\n",
      " [[4]]\n",
      "\n",
      " [[5]]\n",
      "\n",
      " [[0]]\n",
      "\n",
      " [[1]]\n",
      "\n",
      " [[2]]\n",
      "\n",
      " [[3]]\n",
      "\n",
      " [[4]]\n",
      "\n",
      " [[5]]\n",
      "\n",
      " [[4]]\n",
      "\n",
      " [[5]]\n",
      "\n",
      " [[6]]]\n",
      "reshaping arr31 as arr31.reshape(9,2,1):\n",
      " [[[1]\n",
      "  [2]]\n",
      "\n",
      " [[1]\n",
      "  [1]]\n",
      "\n",
      " [[2]\n",
      "  [3]]\n",
      "\n",
      " [[3]\n",
      "  [4]]\n",
      "\n",
      " [[5]\n",
      "  [0]]\n",
      "\n",
      " [[1]\n",
      "  [2]]\n",
      "\n",
      " [[3]\n",
      "  [4]]\n",
      "\n",
      " [[5]\n",
      "  [4]]\n",
      "\n",
      " [[5]\n",
      "  [6]]]\n",
      "reshaping arr31 as arr31.reshape(3,2,3):\n",
      " [[[1 2 1]\n",
      "  [1 2 3]]\n",
      "\n",
      " [[3 4 5]\n",
      "  [0 1 2]]\n",
      "\n",
      " [[3 4 5]\n",
      "  [4 5 6]]]\n",
      "reshaping arr32 as arr32.reshape(4,1,5):\n",
      " [[[1 2 3 1 4]]\n",
      "\n",
      " [[1 2 3 1 2]]\n",
      "\n",
      " [[1 2 1 2 3]]\n",
      "\n",
      " [[0 1 2 3 4]]]\n",
      "reshaping arr32 as arr32.reshape(2,2,1,5):\n",
      " [[[[1 2 3 1 4]]\n",
      "\n",
      "  [[1 2 3 1 2]]]\n",
      "\n",
      "\n",
      " [[[1 2 1 2 3]]\n",
      "\n",
      "  [[0 1 2 3 4]]]]\n"
     ]
    }
   ],
   "source": [
    "#using arr.reshape()\n",
    "print(\"Reshaping arr0 using arr0.reshape(1,):\\n\",arr0.reshape(1,))\n",
    "print(\"reshaping arr1 as arr1.reshape(1,7):\\n\", arr1.reshape(1,7))\n",
    "print(\"reshaping arr1 as arr1.reshape(7,1):\\n\", arr1.reshape(7,1))\n",
    "print(\"reshaping arr21 as arr21.reshape(1,15):\\n\", arr21.reshape(1,15))\n",
    "print(\"reshaping arr21 as arr21.reshape(15,1):\\n\", arr21.reshape(15,1))\n",
    "print(\"reshaping arr21 as arr21.reshape(5,3):\\n\", arr21.reshape(5,3))\n",
    "print(\"reshaping arr31 as arr31.reshape(18,1,1):\\n\", arr31.reshape(18,1,1))\n",
    "print(\"reshaping arr31 as arr31.reshape(9,2,1):\\n\", arr31.reshape(9,2,1))\n",
    "print(\"reshaping arr31 as arr31.reshape(3,2,3):\\n\", arr31.reshape(3,2,3))\n",
    "print(\"reshaping arr32 as arr32.reshape(4,1,5):\\n\", arr32.reshape(4,1,5))\n",
    "print(\"reshaping arr32 as arr32.reshape(2,2,1,5):\\n\", arr32.reshape(2,2,1,5))"
   ]
  },
  {
   "cell_type": "markdown",
   "id": "22aeaa94-7736-49e9-b2e1-49d2ca18a2b6",
   "metadata": {
    "jp-MarkdownHeadingCollapsed": true
   },
   "source": [
    "##### It is important to note that the reshaping should be done in a way that the total number of elements in the array remain same."
   ]
  },
  {
   "cell_type": "markdown",
   "id": "031f02cf-e2f8-4bb3-9711-34f2ca06d166",
   "metadata": {},
   "source": [
    "##### This means that product of the length of all the dimensions of the array should be same and that is the size of the array. Otherwise it can't be reshaped"
   ]
  },
  {
   "cell_type": "markdown",
   "id": "6ee360b3-0aa6-4140-8639-953a091f98f9",
   "metadata": {},
   "source": [
    "##### To calculate all the possible ways in which an array can be reshaped, simply factorize the size of the array"
   ]
  },
  {
   "cell_type": "markdown",
   "id": "641ca1a6-2352-41b0-824b-7254f6709247",
   "metadata": {},
   "source": [
    "##### e.g., if the length of the array is 15, it can be factorized as: 1x15, 15x1, 3x5, 5x3."
   ]
  },
  {
   "cell_type": "code",
   "execution_count": 7,
   "id": "39f317bd-f1b0-4f2f-ada6-8847b39b5f41",
   "metadata": {},
   "outputs": [
    {
     "name": "stdout",
     "output_type": "stream",
     "text": [
      "the shape of arr31 is:  (2, 3, 3)\n",
      "So the size of this array is 2x3x3 = 18\n",
      "arr31 can be reshaped as the factors of 18. like 2x3x3, 9x2x1, 18x1x1, along with different arrangments of these value. like 2x3x3 and 3x3x2 etc.\n"
     ]
    }
   ],
   "source": [
    "#use factorization to caclucate all possible ways to reshape an array\n",
    "print(\"the shape of arr31 is: \",arr31.shape)\n",
    "print(\"So the size of this array is 2x3x3 =\", arr31.size)\n",
    "print(\"arr31 can be reshaped as the factors of 18. like 2x3x3, 9x2x1, 18x1x1, along with different arrangments of these value. like 2x3x3 and 3x3x2 etc.\")"
   ]
  },
  {
   "cell_type": "markdown",
   "id": "002055f1-54a4-4b58-98d1-82557e3f1a92",
   "metadata": {},
   "source": [
    "##### Supplying -1 in reshape():\n",
    "Since the size of the array will remain same after reshaping, we can provide one of the dimension sizes as -1 in the reshape().\n",
    "\n",
    "This will instruct numpy to calculate the value of the missing dimension based on the size of the array and the values of the other dimensions passed in the array.\n",
    "\n",
    "This will not work if more than one dimension values are passed as -1 since then the configuration will be ambiguous as more than one dimensions are unknown."
   ]
  },
  {
   "cell_type": "code",
   "execution_count": 8,
   "id": "7fe2fc91-b3dd-4673-b6f2-9389d0feece2",
   "metadata": {},
   "outputs": [
    {
     "name": "stdout",
     "output_type": "stream",
     "text": [
      "Consider the array x defined as:\n",
      "[[1 2 1 4 5]\n",
      " [5 6 7 8 9]\n",
      " [0 2 1 4 5]\n",
      " [5 3 1 6 9]]\n",
      "The dimensions of this array is (4, 5)\n",
      "The size of this array is 20\n",
      "we can reshape this array as x.reshape(2,-1)\n",
      " [[1 2 1 4 5 5 6 7 8 9]\n",
      " [0 2 1 4 5 5 3 1 6 9]] \n",
      "Shape of x is now (2, 10)\n",
      "\n",
      "Since the size of the array is 20, and we supplied one of the dimensions in the reshaped array as 2, numpy calculates the other dimension as 20/2 = 10\n",
      "\n",
      "Some more examples\n",
      "x.reshape(2,5,-1)\n",
      "[[[1 2]\n",
      "  [1 4]\n",
      "  [5 5]\n",
      "  [6 7]\n",
      "  [8 9]]\n",
      "\n",
      " [[0 2]\n",
      "  [1 4]\n",
      "  [5 5]\n",
      "  [3 1]\n",
      "  [6 9]]]\n",
      "Shape of x is now (2, 5, 2)\n",
      "x.reshape(5,-1)\n",
      "[[1 2 1 4]\n",
      " [5 5 6 7]\n",
      " [8 9 0 2]\n",
      " [1 4 5 5]\n",
      " [3 1 6 9]]\n",
      "Shape of x is now (5, 4)\n"
     ]
    }
   ],
   "source": [
    "#supplying -1 in reshape():\n",
    "x=np.array([[1,2,1,4,5],[5,6,7,8,9],[0,2,1,4,5],[5,3,1,6,9]])\n",
    "print(\"Consider the array x defined as:\\n{}\\nThe dimensions of this array is {}\\nThe size of this array is {}\".format(x,x.shape,x.size))\n",
    "print(\"we can reshape this array as x.reshape(2,-1)\\n\",x.reshape(2,-1),\"\\nShape of x is now\",x.reshape(2,-1).shape)\n",
    "print(\"\\nSince the size of the array is 20, and we supplied one of the dimensions in the reshaped array as 2, numpy calculates the other dimension as 20/2 = 10\")\n",
    "print(\"\\nSome more examples\\nx.reshape(2,5,-1)\\n{}\\nShape of x is now {}\\nx.reshape(5,-1)\\n{}\\nShape of x is now {}\".format(x.reshape(2,5,-1),x.reshape(2,5,-1).shape,x.reshape(5,-1),x.reshape(5,-1).shape))\n",
    "\n",
    "#This will not work if more than one dimension values are passed as -1\n",
    "#print(\"reshaping x as x.reshape(2,-1,-1) will throw as error\",x.reshape(2,-1,-1))"
   ]
  },
  {
   "cell_type": "markdown",
   "id": "d4326c97-092b-463c-ba12-4475bbb7c840",
   "metadata": {},
   "source": [
    "##### reshaping by “setting” its shape via assignment: "
   ]
  },
  {
   "cell_type": "code",
   "execution_count": 9,
   "id": "055cf8d0-33ca-4f76-b535-9f33dc2ee3a2",
   "metadata": {},
   "outputs": [
    {
     "name": "stdout",
     "output_type": "stream",
     "text": [
      "We have an array arra with shape (2, 4)\n",
      "We can change its shape by assignment as arra.shape=(4,2)\n",
      "The shape of the array now is (4, 2) \n",
      " [[1 2]\n",
      " [3 1]\n",
      " [1 2]\n",
      " [2 1]]\n"
     ]
    }
   ],
   "source": [
    "arra=np.array([[1,2,3,1],[1,2,2,1]])\n",
    "print(\"We have an array arra with shape\",arra.shape)\n",
    "arra.shape=(4,2)\n",
    "print(\"We can change its shape by assignment as arra.shape=(4,2)\\nThe shape of the array now is\",arra.shape,\"\\n\",arra)"
   ]
  },
  {
   "cell_type": "markdown",
   "id": "849bc54c-1a8e-45b5-84c2-33b9af7fddd0",
   "metadata": {},
   "source": [
    "##### Reshaping Does Not Make a Copy of an Array:\n",
    "Numpy doesn't create a copy of the array when it is reshaped. \n",
    "\n",
    "The original array and the reshaped array reference the same set of data.\n",
    "\n",
    "It only provides a new index-interface to access the data and is thus called a 'view' of the original array."
   ]
  },
  {
   "cell_type": "code",
   "execution_count": 10,
   "id": "11e01c21-a944-491a-8b27-7860d57b1ce3",
   "metadata": {},
   "outputs": [
    {
     "name": "stdout",
     "output_type": "stream",
     "text": [
      "Consider the array arr\n",
      "[[[ 0  1  2]\n",
      "  [ 3  4  5]\n",
      "  [ 6  7  8]]\n",
      "\n",
      " [[ 9 10 11]\n",
      "  [12 13 14]\n",
      "  [15 16 17]]\n",
      "\n",
      " [[18 19 20]\n",
      "  [21 22 23]\n",
      "  [24 25 26]]]\n",
      "and barr is defined as barr=arr.reshape(1,3,9)\n",
      "Now barr is\n",
      "[[[ 0  1  2  3  4  5  6  7  8]\n",
      "  [ 9 10 11 12 13 14 15 16 17]\n",
      "  [18 19 20 21 22 23 24 25 26]]]\n",
      "We update barr[0,0,0]=21. Now barr is\n",
      "[[[21  1  2  3  4  5  6  7  8]\n",
      "  [ 9 10 11 12 13 14 15 16 17]\n",
      "  [18 19 20 21 22 23 24 25 26]]]\n",
      "arr is\n",
      "[[[21  1  2]\n",
      "  [ 3  4  5]\n",
      "  [ 6  7  8]]\n",
      "\n",
      " [[ 9 10 11]\n",
      "  [12 13 14]\n",
      "  [15 16 17]]\n",
      "\n",
      " [[18 19 20]\n",
      "  [21 22 23]\n",
      "  [24 25 26]]]\n",
      "\n",
      "This proves that reshaped array and original array are referencing the same data\n"
     ]
    }
   ],
   "source": [
    "#reshaped array is referencing the same data\n",
    "arr = np.array([[[ 0,  1,  2],\n",
    "                 [ 3,  4,  5],\n",
    "                 [ 6,  7,  8]],\n",
    "\n",
    "                [[ 9, 10, 11],\n",
    "                 [12, 13, 14],\n",
    "                 [15, 16, 17]],\n",
    "\n",
    "                [[18, 19, 20],\n",
    "                 [21, 22, 23],\n",
    "                 [24, 25, 26]]])\n",
    "\n",
    "barr=arr.reshape(1,3,9)\n",
    "print(\"Consider the array arr\\n{}\\nand barr is defined as barr=arr.reshape(1,3,9)\\nNow barr is\\n{}\".format(arr,barr))\n",
    "barr[0,0,0]=21\n",
    "print(\"We update barr[0,0,0]=21. Now barr is\\n{}\\narr is\\n{}\\n\\nThis proves that reshaped array and original array are referencing the same data\".format(barr,arr))"
   ]
  },
  {
   "cell_type": "markdown",
   "id": "05e013a8-d259-489a-be3d-8d1bdebc0ac1",
   "metadata": {},
   "source": [
    "#### Indexing and dimensionality\n",
    "##### The dimensionality of an array specifies the number of indices that are required to uniquely specify one of its entries\n",
    "\n",
    "NumPy specifies the row-axis of a 2D array as “axis-0” and the column-axis as axis-1. \n",
    "We must now provide two indices, one for each axis (dimension), to uniquely specify an element in this 2D array; the first number specifies an index along axis-0, the second specifies an index along axis-1. \n",
    "\n",
    "For a 2-d array, [[93,  95],\n",
    "                   [84, 100],\n",
    "                   [99,  87]]\n",
    "\n",
    "the axes are defined as:"
   ]
  },
  {
   "cell_type": "raw",
   "id": "f1e4290d-3323-4431-88cf-44bf16f58fc0",
   "metadata": {},
   "source": [
    "            -- axis-1 ->\n",
    "              -2  -1\n",
    "               0   1\n",
    "  |          +---+---+\n",
    "  |    -3, 0 |93 | 95|\n",
    "  |          +---+---+\n",
    "axis-0 -2, 1 |84 |100|\n",
    "  |          +---+---+\n",
    "  |    -1, 2 |99 | 87|\n",
    "  V          +---+---+"
   ]
  },
  {
   "cell_type": "markdown",
   "id": "54d18e7b-90e9-4303-be17-82ccbbf58ab9",
   "metadata": {},
   "source": [
    "##### Indexing is either of the two types: Interger indexing and slice indexing\n",
    "In integer indexing, we access the elements of an array using an integer value. e.g. arr21[0]\n",
    "\n",
    "In slice indexing, we access a subsequence of our data. e.g. arr21[1:]\n",
    "\n",
    "supplying a negative “step” value to the slice, will return the array with that axis flipped.\n",
    "\n",
    "As a result, when that axis of the array will be traversed, index 0 will be accessed last in that axis, index 1 will be accessed second last and so on."
   ]
  },
  {
   "cell_type": "code",
   "execution_count": 11,
   "id": "91f3d40c-fa25-4286-b13c-e58a0f1dcacd",
   "metadata": {},
   "outputs": [
    {
     "name": "stdout",
     "output_type": "stream",
     "text": [
      "We have arr1 as [ 1  2  3  1 41  2  0] .\n",
      "Similar to lists we can access the element of the array. So the third element can be accessed using arr1[2]: 3\n",
      "we have arr21 as\n",
      " [[1 2 3 1 4]\n",
      " [1 2 3 1 2]\n",
      " [1 2 1 2 3]] \n",
      "accesing the first row as arr21[0] [1 2 3 1 4]\n",
      "accessing the first column as arr21[:,0] [1 1 1]\n",
      "accessing the 1st row 3rd column as arr21[0,2] 3\n",
      "accessing 2nd and 3rd row, 3rd to 5th columns as arr21[1:,2:]\n",
      " [[3 1 2]\n",
      " [1 2 3]]\n",
      "Flipping the row axis using arr21[::-1,:]\n",
      " [[1 2 1 2 3]\n",
      " [1 2 3 1 2]\n",
      " [1 2 3 1 4]]\n",
      "Flipping the column axis using arr21[:,::-1]\n",
      " [[4 1 3 2 1]\n",
      " [2 1 3 2 1]\n",
      " [3 2 1 2 1]]\n",
      "accessing 2nd and 3rd row, 3rd to 5th columns using negative indices as arr21[-2:,-3:]\n",
      " [[3 1 2]\n",
      " [1 2 3]]\n"
     ]
    }
   ],
   "source": [
    "#Indexing\n",
    "print(\"We have arr1 as\",arr1, \".\\nSimilar to lists we can access the element of the array. So the third element can be accessed using arr1[2]:\", arr1[2])\n",
    "#indexing in a 2-d array\n",
    "print(\"we have arr21 as\\n\", arr21,\"\\naccesing the first row as arr21[0]\",arr21[0])\n",
    "#slice indexing\n",
    "print(\"accessing the first column as arr21[:,0]\",arr21[:,0])\n",
    "print(\"accessing the 1st row 3rd column as arr21[0,2]\",arr21[0,2])\n",
    "print(\"accessing 2nd and 3rd row, 3rd to 5th columns as arr21[1:,2:]\\n\", arr21[1:3,2:])\n",
    "#step value in slice indexing\n",
    "print(\"Flipping the row axis using arr21[::-1,:]\\n\",arr21[::-1,:])\n",
    "print(\"Flipping the column axis using arr21[:,::-1]\\n\",arr21[:,::-1])\n",
    "#negative indices\n",
    "print(\"accessing 2nd and 3rd row, 3rd to 5th columns using negative indices as arr21[-2:,-3:]\\n\",arr21[-2:,-3:])\n"
   ]
  },
  {
   "cell_type": "markdown",
   "id": "1e28aded-3e68-49c6-9109-6496c480eb02",
   "metadata": {},
   "source": [
    "##### Supplying Fewer Indices Than Dimensions :]"
   ]
  },
  {
   "cell_type": "raw",
   "id": "8085a901-3457-4302-828d-efa7cce46b8c",
   "metadata": {},
   "source": [
    "While indexing, if we supply fewer indices than there are dimensions in the array, no error is thrown.\n",
    "\n",
    "This is because Numpy will automatically supply all the remaining slices\n",
    "\n",
    "Suppose you have an N-dimensional array, and only provide j indices for the array\n",
    "Numpy will automatically insert N - j trailing slices for you.\n",
    "\n",
    "In the case that N=5and j=3, d5_array[0, 0, 0] is treated as d5_array[0, 0, 0, :, :]"
   ]
  },
  {
   "cell_type": "markdown",
   "id": "ad8d8318-c36b-4c9c-8bd2-9c67ff9a6d50",
   "metadata": {},
   "source": [
    "##### N-dimensional arrays when N>2\n",
    "Consider the below 3-d array:"
   ]
  },
  {
   "cell_type": "raw",
   "id": "2dd6c3cf-df13-481d-afb4-5ac0ef5dccae",
   "metadata": {},
   "source": [
    ">>> d3_array = np.array([[[0, 1],\n",
    "...                       [2, 3]],\n",
    "...\n",
    "...                      [[4, 5],\n",
    "...                       [6, 7]]])"
   ]
  },
  {
   "cell_type": "markdown",
   "id": "66612db5-72b6-48e5-9dc6-652387d4b07d",
   "metadata": {},
   "source": [
    "We can think of axis-0 denoting which of the 2x2 “sheets” to select from. Then axis-1 specifies the row along the sheets, and axis-2 the column within the row.\n",
    "\n",
    "Depicting the layout of a 3D array"
   ]
  },
  {
   "cell_type": "raw",
   "id": "1a9dd89f-43fe-4627-acca-6cab60f5bbcd",
   "metadata": {},
   "source": [
    "sheet 0:\n",
    "       [0, 1]\n",
    "       [2, 3]\n",
    "\n",
    "sheet 1:\n",
    "       [4        5]\n",
    " [6, 7]      \n",
    "\n",
    "   |       -- axis-2 ->\n",
    "   |    |\n",
    "   |  axis-1 [0, 1]\n",
    "   |    |    [2, 3]\n",
    "   |    V\n",
    "axis-0\n",
    "   |      -- axis-2 ->\n",
    "   |    |\n",
    "   |  axis-1 [4, 5]\n",
    "   |    |    [6, 7]\n",
    "   V    V\n",
    "\n",
    "Thus d3_array[0, 1, 0] specifies the element residing in sheet-0, at row-1 and column-0:\n",
    ">>> d3_array[0, 1, 0]\n",
    "2\n",
    "\n",
    "d3_array[:, 0, 0] specifies the elements in row-0 and column-0 of both sheets:\n",
    ">>> d3_array[:, 0, 0]\n",
    "array([0, 4])"
   ]
  },
  {
   "cell_type": "markdown",
   "id": "48eb6d96-2e48-47aa-a91e-a5ce99bb304f",
   "metadata": {
    "jp-MarkdownHeadingCollapsed": true
   },
   "source": [
    "##### In four dimensions, \n",
    "one can think of “stacks of sheets with rows and columns” where axis-0 selects the stack of sheets you are working with, axis-1 chooses the sheet, axis-2 chooses the row, and axis-3 chooses the column. Extrapolating to higher dimensions (“collections of stacks of sheets …”) continues in the same tedious fashion."
   ]
  },
  {
   "cell_type": "markdown",
   "id": "b94c7bf1-7c54-4a0e-8292-c131699beeb1",
   "metadata": {},
   "source": [
    "##### Zero-dimensional Arrays\n",
    "A zero dimensional array is simply a single number (a.k.a. a scalar value)\n",
    "consider the below 0-d array:\n",
    "x = np.array(15.2)\n",
    "\n",
    "This is not equivalent to a length-1 1D-array: np.array([15.2]).\n",
    "\n",
    "According to our definition of dimensionality, zero numbers are required to index into a 0-D array as it is unnecessary to provide an identifier for a standalone number. Thus we cannot index into a 0-D array."
   ]
  },
  {
   "cell_type": "raw",
   "id": "9cfc7094-f105-49f6-8071-eae1d316d21d",
   "metadata": {},
   "source": [
    ">>> x[0]\n",
    "---------------------------------------------------------------------------\n",
    "IndexError                                Traceback (most recent call last)\n",
    "<ipython-input-10-2f755f117ac9> in <module>()\n",
    "----> 1 x[0]\n",
    "\n",
    "IndexError: too many indices for array"
   ]
  },
  {
   "cell_type": "markdown",
   "id": "3ec2a606-3f00-4d9c-bfdc-1dcc3717ed4e",
   "metadata": {},
   "source": [
    "We must use the syntax arr.item() to retrieve the numerical entry from a 0D array:\n",
    "\n",
    "x.item()\n",
    "15.2"
   ]
  },
  {
   "cell_type": "markdown",
   "id": "10900387-761b-498a-b004-b5533adec89d",
   "metadata": {},
   "source": [
    "#### Functions for creating Numpy arrays\n",
    "##### Creating arrays from python sequences\n",
    "As discussed earlier we can use Python LISTS and TUPLES to create arrays\n",
    "##### Creating constant arrays : zeros and ones\n",
    "Numpy provides built in functions zeros and ones to create an arrays of user-specified shaped filled with 0s and 1s respectively."
   ]
  },
  {
   "cell_type": "code",
   "execution_count": 12,
   "id": "73484428-6633-4942-9496-1ba1ece0f377",
   "metadata": {},
   "outputs": [
    {
     "name": "stdout",
     "output_type": "stream",
     "text": [
      "We use the function zeros() to create an array filled with zeros of shape(3,4) as arr_zero=np.zeros((3,4))\n",
      " [[0. 0. 0. 0.]\n",
      " [0. 0. 0. 0.]\n",
      " [0. 0. 0. 0.]]\n",
      "We use the function zeros() to create an array filled with zeros of shape(4,) as arr_zero=np.zeros(4)\n",
      " [0. 0. 0. 0.]\n",
      "We use the function ones() to create an array filled with ones of shape(5,) as arr_ones=np.ones(5)\n",
      " [1. 1. 1. 1. 1.]\n",
      "We use the function ones() to create an array filled with ones of shape(5,3) as arr_ones=np.ones((5,3))\n",
      " [[1. 1. 1.]\n",
      " [1. 1. 1.]\n",
      " [1. 1. 1.]\n",
      " [1. 1. 1.]\n",
      " [1. 1. 1.]]\n"
     ]
    }
   ],
   "source": [
    "#zeros\n",
    "arr_zero=np.zeros((3,4))\n",
    "print(\"We use the function zeros() to create an array filled with zeros of shape(3,4) as arr_zero=np.zeros((3,4))\\n\",arr_zero)\n",
    "arr_zero=np.zeros(4)\n",
    "print(\"We use the function zeros() to create an array filled with zeros of shape(4,) as arr_zero=np.zeros(4)\\n\",arr_zero)\n",
    "#ones\n",
    "arr_ones=np.ones(5)\n",
    "print(\"We use the function ones() to create an array filled with ones of shape(5,) as arr_ones=np.ones(5)\\n\",arr_ones)\n",
    "arr_ones=np.ones((5,3))\n",
    "print(\"We use the function ones() to create an array filled with ones of shape(5,3) as arr_ones=np.ones((5,3))\\n\",arr_ones)"
   ]
  },
  {
   "cell_type": "markdown",
   "id": "e672ad91-f106-4aa5-9600-2e050191d5f4",
   "metadata": {},
   "source": [
    "##### Creating sequential arrays: arange and linspace\n",
    "\n",
    "We can use np.arange() function to create an array of evenly spaced values within a given interval. This can be used to quickly create an array."
   ]
  },
  {
   "cell_type": "code",
   "execution_count": 13,
   "id": "3b395f99-c3f4-4edc-964b-16e90432c475",
   "metadata": {},
   "outputs": [
    {
     "name": "stdout",
     "output_type": "stream",
     "text": [
      "note that the stop value is not included in the array\n",
      "np.arange(1,20) gives [ 1  2  3  4  5  6  7  8  9 10 11 12 13 14 15 16 17 18 19]\n",
      "we can also specify the step value to have spacing between the values\n",
      "np.arange(1,20,step=2) gives [ 1  3  5  7  9 11 13 15 17 19]\n",
      "We can also get float values by either specifying dtype or using float values in the start or stop\n",
      "np.arange(1.0,20,step=5) gives [ 1.  6. 11. 16.] \n",
      "and np.arange(1,20,step=5,dtype=float) gives [ 1.  6. 11. 16.]\n"
     ]
    }
   ],
   "source": [
    "#using np.arange()\n",
    "print(\"note that the stop value is not included in the array\\nnp.arange(1,20) gives\",np.arange(1,20))\n",
    "print(\"we can also specify the step value to have spacing between the values\\nnp.arange(1,20,step=2) gives\",np.arange(1,20,step=2))\n",
    "print(\"We can also get float values by either specifying dtype or using float values in the start or stop\\nnp.arange(1.0,20,step=5) gives\"\n",
    "      ,np.arange(1.0,20,step=5),\"\\nand np.arange(1,20,step=5,dtype=float) gives\",np.arange(1,20,step=5,dtype=float))"
   ]
  },
  {
   "cell_type": "markdown",
   "id": "90c5da78-1971-49d0-8567-ea2b98a92dfa",
   "metadata": {},
   "source": [
    "We can use np.linspace() to generate an array of evenly spaced values but the optional \"num\" parameter allows us to specify the number of values to be generated and linspace will return that many evenly spaced values in that interval"
   ]
  },
  {
   "cell_type": "code",
   "execution_count": 14,
   "id": "d9a91fc7-e521-4ab6-a659-60f9e2f0b16a",
   "metadata": {},
   "outputs": [
    {
     "name": "stdout",
     "output_type": "stream",
     "text": [
      "Using linspace to generate 50 values between 1 and 20\n",
      "np.linspace(1,20,num=50) gives\n",
      " [ 1.          1.3877551   1.7755102   2.16326531  2.55102041  2.93877551\n",
      "  3.32653061  3.71428571  4.10204082  4.48979592  4.87755102  5.26530612\n",
      "  5.65306122  6.04081633  6.42857143  6.81632653  7.20408163  7.59183673\n",
      "  7.97959184  8.36734694  8.75510204  9.14285714  9.53061224  9.91836735\n",
      " 10.30612245 10.69387755 11.08163265 11.46938776 11.85714286 12.24489796\n",
      " 12.63265306 13.02040816 13.40816327 13.79591837 14.18367347 14.57142857\n",
      " 14.95918367 15.34693878 15.73469388 16.12244898 16.51020408 16.89795918\n",
      " 17.28571429 17.67346939 18.06122449 18.44897959 18.83673469 19.2244898\n",
      " 19.6122449  20.        ]\n",
      "\n",
      "Notice that the second value is included in the generated array unlike in arange\n"
     ]
    }
   ],
   "source": [
    "#using np.linspace()\n",
    "print(\"Using linspace to generate 50 values between 1 and 20\\nnp.linspace(1,20,num=50) gives\\n\",np.linspace(1,20,num=50))\n",
    "print(\"\\nNotice that the second value is included in the generated array unlike in arange\")"
   ]
  },
  {
   "cell_type": "markdown",
   "id": "a7e40280-d62a-4159-98c1-9562aea842cc",
   "metadata": {},
   "source": [
    "##### Creating Arrays Using Random Sampling\n",
    "There are several functions in np.random which create arrays of specified shape and fill it by taking random values from a specified statistical distribution."
   ]
  },
  {
   "cell_type": "code",
   "execution_count": 15,
   "id": "6d4c478e-cbf3-40a1-9fd3-a6bd67aff002",
   "metadata": {},
   "outputs": [
    {
     "name": "stdout",
     "output_type": "stream",
     "text": [
      "Create a (3,5) array with random values from uniform distribution [0,1) as rng.random((3,5))\n",
      " [[0.71374271 0.95386485 0.97286014 0.88729222 0.8181888 ]\n",
      " [0.93599123 0.60659512 0.06646869 0.91989637 0.6064767 ]\n",
      " [0.526447   0.24407291 0.74473039 0.45551602 0.13523128]]\n",
      "Create a (3,5) array with random values from normal distribution [0,1) as rng.normal(size=(3,5))\n",
      " [[ 1.39287663 -0.47770896 -1.30675461 -0.09739614 -0.71207996]\n",
      " [ 0.36891975  0.36364645  1.1558828   1.58155771  0.72290718]\n",
      " [ 0.55699761 -1.59197253 -0.56574777 -0.38897122 -0.5812054 ]]\n",
      "create a array of size (3,2) with random values from a standard normal distribution\n",
      " [[-0.55781749 -1.59492392]\n",
      " [-0.45176968 -0.36871592]\n",
      " [-1.43043087  1.73247191]]\n",
      "create a array of size (3,2) with random values from uniform distribution [0,1)\n",
      " [[0.2504248  0.30508959]\n",
      " [0.06987367 0.72016546]\n",
      " [0.10068423 0.61420936]]\n"
     ]
    }
   ],
   "source": [
    "#New Generator API\n",
    "rng=np.random.default_rng()\n",
    "print(\"Create a (3,5) array with random values from uniform distribution [0,1) as rng.random((3,5))\\n\",rng.random((3,5)))\n",
    "print(\"Create a (3,5) array with random values from normal distribution [0,1) as rng.normal(size=(3,5))\\n\",rng.normal(size=(3,5)))\n",
    "#Older ways without using the generator API\n",
    "print(\"create a array of size (3,2) with random values from a standard normal distribution\\n\",np.random.randn(3,2))\n",
    "print(\"create a array of size (3,2) with random values from uniform distribution [0,1)\\n\",np.random.rand(3,2))"
   ]
  },
  {
   "cell_type": "markdown",
   "id": "29998ebd-2e9c-4bd4-bc08-1c673c57c595",
   "metadata": {},
   "source": [
    "#### numpy arrays are passed by reference. \n",
    "This means that when we assign a numpy array to a variable, the variable is actually pointing to the original array. Any changes made to this variable will be reflected to the original array as well. Same is the case with python lists as well."
   ]
  },
  {
   "cell_type": "code",
   "execution_count": 16,
   "id": "6ae21e9d-2ced-4c64-a88c-dc70673a8710",
   "metadata": {
    "scrolled": true
   },
   "outputs": [
    {
     "name": "stdout",
     "output_type": "stream",
     "text": [
      "We have alist=[1,2,1,2,3,4] and blist=alist.\n",
      "so we have alist as [1, 2, 1, 2, 3, 4] \n",
      "blist as [1, 2, 1, 2, 3, 4]\n",
      "We update alist as alist[0]='abc'\n",
      "Now we have alist as, ['abc', 2, 1, 2, 3, 4] \n",
      "blist as ['abc', 2, 1, 2, 3, 4]\n",
      "we update blist as blist.extend(['cat','dog'])\n",
      "Now we have blist as ['abc', 2, 1, 2, 3, 4, 'cat', 'dog'] \n",
      "alist as ['abc', 2, 1, 2, 3, 4, 'cat', 'dog'] \n",
      "\n",
      "This demostrates that blist and alist are pointing to the same list and any changes made using either one of these variables will reflect in the other as well\n",
      "We have an array arrx=np.arange(1,51,3) and arry=arrx\n",
      "arrx is [ 1  4  7 10 13 16 19 22 25 28 31 34 37 40 43 46 49] \n",
      "and arry is [ 1  4  7 10 13 16 19 22 25 28 31 34 37 40 43 46 49]\n",
      "Now we update arry as arry*=2\n",
      "arry is now [ 2  8 14 20 26 32 38 44 50 56 62 68 74 80 86 92 98]\n",
      "arrx is [ 2  8 14 20 26 32 38 44 50 56 62 68 74 80 86 92 98]\n",
      "Now we update arrx[5:]=300\n",
      "arrx is [  2   8  14  20  26 300 300 300 300 300 300 300 300 300 300 300 300]\n",
      "arry is [  2   8  14  20  26 300 300 300 300 300 300 300 300 300 300 300 300]\n",
      "This demonstrated numpy arrays are reference types.\n"
     ]
    }
   ],
   "source": [
    "#Lists and numpy arrays are passed by reference\n",
    "#List reference types\n",
    "alist=[1,2,1,2,3,4]\n",
    "blist=alist\n",
    "print(\"We have alist=[1,2,1,2,3,4] and blist=alist.\\nso we have alist as\",alist,\"\\nblist as\",blist)\n",
    "alist[0]='abc'\n",
    "print(\"We update alist as alist[0]='abc'\\nNow we have alist as,\",alist,\"\\nblist as\",blist)\n",
    "blist.extend(['cat','dog'])\n",
    "print(\"we update blist as blist.extend(['cat','dog'])\\nNow we have blist as\",blist,\"\\nalist as\",alist,'\\n')\n",
    "print(\"This demostrates that blist and alist are pointing to the same list and any changes made using either one of these variables will reflect in the other as well\")\n",
    "# Numpy arrays reference types\n",
    "arrx=np.arange(1,51,3)\n",
    "arry=arrx\n",
    "print(\"We have an array arrx=np.arange(1,51,3) and arry=arrx\\narrx is\",arrx,\"\\nand arry is\",arry)\n",
    "arry*=2\n",
    "print(\"Now we update arry as arry*=2\\narry is now {}\\narrx is {}\".format(arry,arrx))\n",
    "arrx[5:]=300\n",
    "print(\"Now we update arrx[5:]=300\\narrx is {}\\narry is {}\".format(arrx,arry))\n",
    "print(\"This demonstrated numpy arrays are reference types.\")"
   ]
  },
  {
   "cell_type": "markdown",
   "id": "0a5c8371-0eab-41bd-a273-1882df5ff553",
   "metadata": {},
   "source": [
    "##### To create a copy of an array, copy() function is used. This way, the new variable will not point to the original array and any changes made using the new variable will be made to the new array which will be a copy of the original one."
   ]
  },
  {
   "cell_type": "code",
   "execution_count": 17,
   "id": "d4a15f7f-10ac-4c1e-b9ff-b9ac4b61a42f",
   "metadata": {},
   "outputs": [
    {
     "name": "stdout",
     "output_type": "stream",
     "text": [
      "We have arrx1=np.linspace(1,50,20) as [ 1.          3.57894737  6.15789474  8.73684211 11.31578947 13.89473684\n",
      " 16.47368421 19.05263158 21.63157895 24.21052632 26.78947368 29.36842105\n",
      " 31.94736842 34.52631579 37.10526316 39.68421053 42.26315789 44.84210526\n",
      " 47.42105263 50.        ]\n",
      "\n",
      "arry1=arrx1.copy() as [ 1.          3.57894737  6.15789474  8.73684211 11.31578947 13.89473684\n",
      " 16.47368421 19.05263158 21.63157895 24.21052632 26.78947368 29.36842105\n",
      " 31.94736842 34.52631579 37.10526316 39.68421053 42.26315789 44.84210526\n",
      " 47.42105263 50.        ]\n",
      "Now we update arrx1[15:]=300\n",
      "arrx1 is[  1.           3.57894737   6.15789474   8.73684211  11.31578947\n",
      "  13.89473684  16.47368421  19.05263158  21.63157895  24.21052632\n",
      "  26.78947368  29.36842105  31.94736842  34.52631579  37.10526316\n",
      " 300.         300.         300.         300.         300.        ]\n",
      "arry1 is[ 1.          3.57894737  6.15789474  8.73684211 11.31578947 13.89473684\n",
      " 16.47368421 19.05263158 21.63157895 24.21052632 26.78947368 29.36842105\n",
      " 31.94736842 34.52631579 37.10526316 39.68421053 42.26315789 44.84210526\n",
      " 47.42105263 50.        ]\n",
      "Now we update arry1[10:]=100\n",
      "arry1 is [  1.           3.57894737   6.15789474   8.73684211  11.31578947\n",
      "  13.89473684  16.47368421  19.05263158  21.63157895  24.21052632\n",
      " 100.         100.         100.         100.         100.\n",
      " 100.         100.         100.         100.         100.        ]\n",
      "arrx1 is [  1.           3.57894737   6.15789474   8.73684211  11.31578947\n",
      "  13.89473684  16.47368421  19.05263158  21.63157895  24.21052632\n",
      "  26.78947368  29.36842105  31.94736842  34.52631579  37.10526316\n",
      " 300.         300.         300.         300.         300.        ]\n",
      "\n",
      "This demonstrates that the array created using copy() is not referencing the original array\n"
     ]
    }
   ],
   "source": [
    "#copy()\n",
    "arrx1=np.linspace(1,50,20)\n",
    "arry1=arrx1.copy()\n",
    "print(\"We have arrx1=np.linspace(1,50,20) as {}\\n\\narry1=arrx1.copy() as {}\".format(arrx1,arry1))\n",
    "arrx1[15:]=300\n",
    "print(\"Now we update arrx1[15:]=300\\narrx1 is{}\\narry1 is{}\".format(arrx1,arry1))\n",
    "arry1[10:]=100\n",
    "print(\"Now we update arry1[10:]=100\\narry1 is {}\\narrx1 is {}\".format(arry1,arrx1))\n",
    "print(\"\\nThis demonstrates that the array created using copy() is not referencing the original array\")"
   ]
  },
  {
   "cell_type": "markdown",
   "id": "7f368640-435a-43f4-81cb-54525665d2fd",
   "metadata": {},
   "source": [
    "#### Iterating Over Arrays\n",
    "\n",
    "Numpy provided ndenumerate() function which enumerates all the items in a N-Dimensional array and specified the N-Dimension index of each element"
   ]
  },
  {
   "cell_type": "code",
   "execution_count": 18,
   "id": "9fa9bbcf-2439-4686-a14a-bf3b86d0859d",
   "metadata": {},
   "outputs": [
    {
     "data": {
      "text/plain": [
       "[((0, 0, 0), 9),\n",
       " ((0, 0, 1), 15),\n",
       " ((0, 1, 0), 7),\n",
       " ((0, 1, 1), 12),\n",
       " ((0, 2, 0), 6),\n",
       " ((0, 2, 1), 1),\n",
       " ((0, 3, 0), 11),\n",
       " ((0, 3, 1), 20),\n",
       " ((0, 4, 0), 14),\n",
       " ((0, 4, 1), 17),\n",
       " ((1, 0, 0), 6),\n",
       " ((1, 0, 1), 6),\n",
       " ((1, 1, 0), 0),\n",
       " ((1, 1, 1), 1),\n",
       " ((1, 2, 0), 13),\n",
       " ((1, 2, 1), 9),\n",
       " ((1, 3, 0), 3),\n",
       " ((1, 3, 1), 9),\n",
       " ((1, 4, 0), 20),\n",
       " ((1, 4, 1), 5)]"
      ]
     },
     "execution_count": 18,
     "metadata": {},
     "output_type": "execute_result"
    }
   ],
   "source": [
    "#ndenumerate()\n",
    "rng=np.random.default_rng()\n",
    "arrenu=rng.integers(low=20,size=(2,5,2),endpoint=True)\n",
    "[i for i in np.ndenumerate(arrenu)]"
   ]
  },
  {
   "cell_type": "markdown",
   "id": "7ddb4bf8-0a4b-4d4d-a53e-36f8a272150e",
   "metadata": {},
   "source": [
    "#### Row-major (C) vs Column-major (F) Traversal Ordering\n",
    "\n",
    "Notice in the ndenumerate demonstration above, first the row-0 of sheet-0 was traversed from column-0 to column-1, then it traversed row-1 of sheet-0 from column-0 to column-1 and so on.\n",
    "\n",
    "When considering a 2-D array,\n",
    "\n",
    "In row-major ordering, all the columns inside a row are first traversed and then the process is repeated for the next row.\n",
    "\n",
    "In column-major ordering, all the rows within a column are traversed and then the process is repeated for the next column.\n",
    "\n",
    "##### By default numpy used row-major ordering for any operation that requires array to be traversed.\n",
    "\n",
    "The generic rules are as follows:\n",
    "##### Row-major ordering (C ordering):\n",
    "traverse an array by advancing through the index of the last axis, first, until the end of the axis and then advance through the index of the second-to-last axis, and so on.\n",
    "##### Column-major ordering (F ordering):\n",
    "traverse an array by advancing through the index of the first axis, first, until the end of that axis is reached and then advance through the index of the second axis, and so on.\n",
    "\n",
    "##### “Row-major” ordering is also referred to as “C-ordering” because this is the traversal method utilized in the C language. “Column-major” ordering, on the other hand, is also referred to as “F-ordering”, because it is used by the Fortran language.\n",
    "\n",
    "Consider the how NumPy reshapes a shape-(24,) array into a shape-(2,3,4) array:"
   ]
  },
  {
   "cell_type": "raw",
   "id": "7b4d360f-5f16-467b-b3e0-5db6ad0784af",
   "metadata": {},
   "source": [
    ">>> np.arange(2*3*4).reshape(2,3,4)\n",
    "array([[[ 0,  1,  2,  3],\n",
    "        [ 4,  5,  6,  7],\n",
    "        [ 8,  9, 10, 11]],\n",
    "\n",
    "       [[12, 13, 14, 15],\n",
    "        [16, 17, 18, 19],\n",
    "        [20, 21, 22, 23]]])"
   ]
  },
  {
   "cell_type": "raw",
   "id": "e8acce3f-a85e-4eac-9846-3b5dc39223af",
   "metadata": {},
   "source": [
    "Following NumPy’s default row-major ordering, we can perform this reshaping by following these steps:\n",
    "\n",
    "1. Create an empty array of the desired shape: (2, 3, 4).\n",
    "\n",
    "2. Start by inserting the 0th element from the input array into the (0, 0, 0) element of the output array.\n",
    "\n",
    "3. Advance the index by increasing the index of the last axis, first, and inserting the following element from the input array.\n",
    "\n",
    "4. If you reach the end of an axis (axis-2, for instance, only has 4 slots), reset the index for that axis to 0, and advance the index of the preceding axis. Go back to 3.\n",
    "\n",
    "This traversal process is easier to understand when laid out explicitly:"
   ]
  },
  {
   "cell_type": "markdown",
   "id": "206dabc8-0eff-4c07-be15-553ca0ddf5a6",
   "metadata": {},
   "source": [
    "##### Reshaping a shape-(24,) array to a shape-(2,3,4) array, using NumPy’s default “row-major” ordering"
   ]
  },
  {
   "cell_type": "raw",
   "id": "3b98f667-e999-4ed8-b6fe-29beb85b0c44",
   "metadata": {},
   "source": [
    "Input Array     Output Array\n",
    "-----------    ---------------\n",
    " entry: 0  ->  entry: (0, 0, 0)\n",
    " entry: 1  ->  entry: (0, 0, 1)\n",
    " entry: 2  ->  entry: (0, 0, 2)\n",
    " entry: 3  ->  entry: (0, 0, 3) *row-0 of sheet 0, filled. go to next row*\n",
    " entry: 4  ->  entry: (0, 1, 0)\n",
    " entry: 5  ->  entry: (0, 1, 1)\n",
    " entry: 6  ->  entry: (0, 1, 2)\n",
    " entry: 7  ->  entry: (0, 1, 3) *row-1 of sheet 0, filled. go to next row*\n",
    " entry: 8  ->  entry: (0, 2, 0)\n",
    " entry: 9  ->  entry: (0, 2, 1)\n",
    " entry:10  ->  entry: (0, 2, 2)\n",
    " entry:11  ->  entry: (0, 2, 3) *row-2 of sheet 0, filled. go to next sheet!*\n",
    "\n",
    " entry:12  ->  entry: (1, 0, 0)\n",
    " entry:13  ->  entry: (1, 0, 1)\n",
    " entry:14  ->  entry: (1, 0, 2)\n",
    " entry:15  ->  entry: (1, 0, 3) *row-0 of sheet 1, filled. go to next row*\n",
    " entry:16  ->  entry: (1, 1, 0)\n",
    " entry:17  ->  entry: (1, 1, 1)\n",
    " entry:18  ->  entry: (1, 1, 2)\n",
    " entry:19  ->  entry: (1, 1, 3) *row-1 of sheet 1, filled. go to next row*\n",
    " entry:20  ->  entry: (1, 2, 0)\n",
    " entry:21  ->  entry: (1, 2, 1)\n",
    " entry:22  ->  entry: (1, 2, 2)\n",
    " entry:23  ->  entry: (1, 2, 3) *row-2 of sheet 1, filled. Done!*"
   ]
  },
  {
   "cell_type": "markdown",
   "id": "d7e17525-8c5d-4860-920f-75716f11e923",
   "metadata": {},
   "source": [
    "##### Reshaping a shape-(2,3,4) into a shape(6,4) array using NumPy’s default “row-major” ordering"
   ]
  },
  {
   "cell_type": "raw",
   "id": "6f178857-4246-4f6f-94da-518d6f52b888",
   "metadata": {},
   "source": [
    "  Input Array       Output Array\n",
    "----------------    ---------------\n",
    "entry: (0, 0, 0) -> entry: (0, 0)\n",
    "entry: (0, 0, 1) -> entry: (0, 1)\n",
    "entry: (0, 0, 2) -> entry: (0, 2)\n",
    "entry: (0, 0, 3) -> entry: (0, 3)\n",
    "entry: (0, 1, 0) -> entry: (1, 0)\n",
    "...\n",
    "...\n",
    "entry: (1, 2, 3) -> entry: (5, 3)"
   ]
  },
  {
   "cell_type": "markdown",
   "id": "a0550424-d93a-4436-96b7-b276655bbc6e",
   "metadata": {},
   "source": [
    "#### “Vectorized” Operations: Optimized Computations on NumPy Arrays\n",
    "\n",
    "As mentioned earlier, a numpy array will always contain elements of a single datatype,i.e., numpy arrays are homogenous. This knowledge about the data type of the elements of a numpy array, allows Numpy to perform mathematical operations on the numpy arrays using optmized, compiled C code.\n",
    "\n",
    "This process is called vectorization.\n",
    "\n",
    "In comparion to numpy arrays, python lists allows the flexibility to have elements of varying data types. However, this also adds the overhead on Python to check the data type of every element while it iterates over the elements of a list. "
   ]
  },
  {
   "cell_type": "markdown",
   "id": "4aa348dc-e8d6-486d-8dd4-96d7447269a2",
   "metadata": {
    "jp-MarkdownHeadingCollapsed": true
   },
   "source": [
    "##### In the context of high-level languages like Python, Matlab, and R, the term vectorization describes the use of optimized, pre-compiled code written in a low-level language (e.g. C) to perform mathematical operations over a sequence of data. This is done in place of an explicit iteration written in the native language code (e.g. a “for-loop” written in Python)"
   ]
  },
  {
   "cell_type": "markdown",
   "id": "a3b8a040-d3f7-4267-8ce7-61af353f291c",
   "metadata": {},
   "source": [
    "##### Some examples of vectorized funcitons:"
   ]
  },
  {
   "cell_type": "code",
   "execution_count": 19,
   "id": "a8e54f36-8d11-435c-b047-c7cbcb03576b",
   "metadata": {},
   "outputs": [
    {
     "name": "stdout",
     "output_type": "stream",
     "text": [
      "We have arrv1 as\n",
      "[[ 0  1  2  3]\n",
      " [ 4  5  6  7]\n",
      " [ 8  9 10 11]]\n",
      "Using vectorized function, we will multiply all the element of arrv1 with 2 as\n",
      "2 * arrv1 =\n",
      "[[ 0  2  4  6]\n",
      " [ 8 10 12 14]\n",
      " [16 18 20 22]]\n",
      "We have array arrv2 as\n",
      "[[12 13 14 15]\n",
      " [16 17 18 19]\n",
      " [20 21 22 23]]\n",
      "using vectorized functions, we will subtract corresponding element of both these arrays as\n",
      " arrv1-arrv2 =\n",
      "[[-12 -12 -12 -12]\n",
      " [-12 -12 -12 -12]\n",
      " [-12 -12 -12 -12]]\n",
      "We have arrv3 as\n",
      " [[ 0.200012  ]\n",
      " [ 0.17982581]\n",
      " [-1.65136579]\n",
      " [-0.44830816]]\n",
      "We can get the dot product of these two arrays as np.dot(arrv1,arrv3)=\n",
      "[[ -4.46783025]\n",
      " [-11.34717481]\n",
      " [-18.22651938]]\n"
     ]
    },
    {
     "data": {
      "text/plain": [
       "<function dot at 0x000002D91A9B7A70>"
      ]
     },
     "execution_count": 19,
     "metadata": {},
     "output_type": "execute_result"
    }
   ],
   "source": [
    "#Vectorized functions examples\n",
    "import numpy as np\n",
    "arrv1=np.array([[ 0,  1,  2,  3],\n",
    "        [ 4,  5,  6,  7],\n",
    "        [ 8,  9, 10, 11]])\n",
    "arrv2=np.array([[12, 13, 14, 15],\n",
    "        [16, 17, 18, 19],\n",
    "        [20, 21, 22, 23]])\n",
    "print(\"We have arrv1 as\\n{}\".format(arrv1))\n",
    "#multiplying 2 with all the elements of an array\n",
    "print(\"Using vectorized function, we will multiply all the element of arrv1 with 2 as\\n2 * arrv1 =\\n{}\".format(2*arrv1))\n",
    "#subtracting corresponding values of 2 arrays\n",
    "print(\"We have array arrv2 as\\n{}\".format(arrv2))\n",
    "print(\"using vectorized functions, we will subtract corresponding element of both these arrays as\\n arrv1-arrv2 =\\n{}\".format(arrv1-arrv2))\n",
    "#dot product of two arrays: multiply the corresponding elements and sum the result\n",
    "arrv3=np.random.default_rng().normal(size=(4,1))\n",
    "print(\"We have arrv3 as\\n\",arrv3)\n",
    "print(\"We can get the dot product of these two arrays as np.dot(arrv1,arrv3)=\\n{}\".format(np.dot(arrv1,arrv3)))\n",
    "np.dot"
   ]
  },
  {
   "cell_type": "markdown",
   "id": "58672f0f-9623-4592-85e4-7d2bd76cae3f",
   "metadata": {
    "jp-MarkdownHeadingCollapsed": true
   },
   "source": [
    "##### NumPy provides highly-optimized functions for performing mathematical operations on arrays of numbers. Performing extensive iterations (e.g. via ‘for-loops’) in Python to perform repeated mathematical computations should nearly always be replaced by the use of vectorized functions on arrays. This informs the entire design paradigm of NumPy."
   ]
  },
  {
   "cell_type": "markdown",
   "id": "2feefbfc-39c3-414d-9410-ed1b5434e6d2",
   "metadata": {},
   "source": [
    "##### Numpy's Mathematical functions\n",
    "###### Unary functions\n",
    "Unary functions are mathematical functions that accept only one argument\n",
    "\n",
    "Few examples of unary functions:\n",
    "np.absolute,np.sqrt,np.sin,np.cos,np.tan,np.log,np.log10, np.log2, np.exp\n",
    "\n",
    "These functions are defined to work on individual number (i.e., \"scalars\"), but numpy implements these functions over an array by mapping these functions over the array. This means that Numpy will apply these functions over each element of the array and produce a new resultant array, without overwriting the original array.\n",
    "\n",
    "This process is valid for arrays of different dimensionality and shape"
   ]
  },
  {
   "cell_type": "code",
   "execution_count": 20,
   "id": "89a530dd-4e9b-48cb-96fd-8f553ce13301",
   "metadata": {},
   "outputs": [
    {
     "name": "stdout",
     "output_type": "stream",
     "text": [
      "[ 0.84147098  0.90929743 -0.95892427  0.84147098  0.90929743]\n",
      "[[ 0.54030231 -0.41614684 -0.9899925   0.54030231]\n",
      " [-0.83907153  0.40808206  0.96496603  0.54030231]]\n",
      "[[   1    4    9    1]\n",
      " [ 100  400 2500    1]]\n",
      "Since slicing also returns an array, these functions can be used over slices as well\n"
     ]
    },
    {
     "data": {
      "text/plain": [
       "array([10, 20, 50,  1])"
      ]
     },
     "execution_count": 20,
     "metadata": {},
     "output_type": "execute_result"
    }
   ],
   "source": [
    "#examples of unary functions\n",
    "arru1=np.array([1,2,5,1,2])\n",
    "print(np.sin(arru1))\n",
    "arru2=np.array([[1,2,3,1],[10,-20,-50,1]])\n",
    "print(np.cos(arru2))\n",
    "print(np.square(arru2))\n",
    "\n",
    "print(\"Since slicing also returns an array, these functions can be used over slices as well\")\n",
    "np.absolute(arru2[1,:])"
   ]
  },
  {
   "cell_type": "markdown",
   "id": "26bc45c4-5570-4df0-b56d-6049179c8f41",
   "metadata": {},
   "source": [
    "##### Applying a unary NumPy function, f(x), to an N-dimensional array will apply f(x) elementwise on the array."
   ]
  },
  {
   "cell_type": "markdown",
   "id": "2761beb8-33a2-4bf6-8cf8-dfca48387e9c",
   "metadata": {},
   "source": [
    "###### Binary functions\n",
    "Binary functions accept two arguments and are of the form f(x,y).\n",
    "\n",
    "Few examples: \n",
    "Numpy Function, Python operator\n",
    "np.multiply, *\n",
    "np.divide, /\n",
    "np.add, +\n",
    "np.subtract, -\n",
    "np.power, **\n",
    "np.mod, %\n",
    "\n",
    "###### Note: Numpy will override the standard definition of the Python mathematical operators with vectorized functions when these operators are used with Numpy arrays.\n",
    "\n",
    "For example, suppose arr1 and arr2 are NumPy arrays; calling arr1 + arr2 ends up calling np.add(arr1, arr2) “under the hood”. Thus we can safely use the standard math operators + - / * ** between NumPy arrays, and fast vectorized functions will be used for us.\n",
    "\n",
    "###### Two types of cases when using Binary functions\n",
    "\n",
    "When using binary functions, there are mainly two cases in which we could use the binary functions:\n",
    "\n",
    "1. When both the operands of the binary functions are arrays (of same shape).\n",
    "   When two arrays of same shape are passed as argumnets for binary functions, the operation will be performed to their pairwise elements.\n",
    "\n",
    "   This will work on arrays of any dimension and shape as long as the shape of the two arrays is same."
   ]
  },
  {
   "cell_type": "code",
   "execution_count": 21,
   "id": "3268a0f9-3dcd-455a-bdf3-95c57f167859",
   "metadata": {},
   "outputs": [
    {
     "name": "stdout",
     "output_type": "stream",
     "text": [
      "We have arrb1 as\n",
      "[0. 1. 2. 3.]\n",
      "and arrb2 as\n",
      "[4 3 5 8]\n",
      "\n",
      "Using arrb1+arrb2 gives\n",
      "[ 4.  4.  7. 11.]\n",
      "\n",
      "We have arrb3 as\n",
      "[[0 1 2 3 4]\n",
      " [5 6 7 8 9]]\n",
      "and arrb4 as\n",
      "[[10 11 12 13 14]\n",
      " [15 16 17 18 19]]\n",
      "\n",
      "Using arrb3*arrb4 gives\n",
      "[[  0  11  24  39  56]\n",
      " [ 75  96 119 144 171]]\n"
     ]
    }
   ],
   "source": [
    "#Example of binary functions on 2 arrays of same shape\n",
    "arrb1=np.array([0.,1.,2.,3.])\n",
    "arrb2=np.array([4,3,5,8])\n",
    "print(\"We have arrb1 as\\n{}\\nand arrb2 as\\n{}\\n\\nUsing arrb1+arrb2 gives\\n{}\".format(arrb1,arrb2,arrb1+arrb2))\n",
    "\n",
    "arrb3=np.array([[0,1,2,3,4],[5,6,7,8,9]])\n",
    "arrb4=np.array([[10,11,12,13,14],[15,16,17,18,19]])\n",
    "print(\"\\nWe have arrb3 as\\n{}\\nand arrb4 as\\n{}\\n\\nUsing arrb3*arrb4 gives\\n{}\".format(arrb3,arrb4,arrb3*arrb4))\n"
   ]
  },
  {
   "cell_type": "markdown",
   "id": "e6dc6ab7-b113-4b27-9075-557a85de6fdc",
   "metadata": {},
   "source": [
    "2. When one of the operand is an array and other operand is a scalar."
   ]
  }
 ],
 "metadata": {
  "kernelspec": {
   "display_name": "Python 3 (ipykernel)",
   "language": "python",
   "name": "python3"
  },
  "language_info": {
   "codemirror_mode": {
    "name": "ipython",
    "version": 3
   },
   "file_extension": ".py",
   "mimetype": "text/x-python",
   "name": "python",
   "nbconvert_exporter": "python",
   "pygments_lexer": "ipython3",
   "version": "3.11.7"
  }
 },
 "nbformat": 4,
 "nbformat_minor": 5
}
