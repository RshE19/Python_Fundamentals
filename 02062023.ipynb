{
 "cells": [
  {
   "attachments": {},
   "cell_type": "markdown",
   "metadata": {},
   "source": []
  },
  {
   "cell_type": "code",
   "execution_count": 2,
   "metadata": {},
   "outputs": [
    {
     "name": "stdout",
     "output_type": "stream",
     "text": [
      "   #                   Name Type 1  Type 2  Total\n",
      "0  1              Bulbasaur  Grass  Poison    318\n",
      "1  2                Ivysaur  Grass  Poison    405\n",
      "2  3               Venusaur  Grass  Poison    525\n",
      "3  3  VenusaurMega Venusaur  Grass  Poison    625\n"
     ]
    },
    {
     "data": {
      "text/plain": [
       "625"
      ]
     },
     "execution_count": 2,
     "metadata": {},
     "output_type": "execute_result"
    }
   ],
   "source": [
    "import pandas as pd\n",
    "df = pd.read_csv(\"Python/pokemon.csv\")\n",
    "df.head(5)\n",
    "df.tail(5)\n",
    "df.columns\n",
    "df[[\"Name\", \"Type 1\"]][4:-750]\n",
    "df[\"Type 1\"]=='Fire'\n",
    "print(df.iloc[0:4,0:5])\n",
    "df.iloc[3,4]"
   ]
  },
  {
   "cell_type": "code",
   "execution_count": 19,
   "metadata": {},
   "outputs": [
    {
     "name": "stdout",
     "output_type": "stream",
     "text": [
      "   Type 2  Total  HP\n",
      "0  Poison    318  45\n",
      "1  Poison    405  60\n",
      "2  Poison    525  80\n",
      "<class 'pandas.core.frame.DataFrame'>\n",
      "RangeIndex: 800 entries, 0 to 799\n",
      "Data columns (total 13 columns):\n",
      " #   Column      Non-Null Count  Dtype \n",
      "---  ------      --------------  ----- \n",
      " 0   #           800 non-null    int64 \n",
      " 1   Name        800 non-null    object\n",
      " 2   Type 1      800 non-null    object\n",
      " 3   Type 2      414 non-null    object\n",
      " 4   Total       800 non-null    int64 \n",
      " 5   HP          800 non-null    int64 \n",
      " 6   Attack      800 non-null    int64 \n",
      " 7   Defense     800 non-null    int64 \n",
      " 8   Sp. Atk     800 non-null    int64 \n",
      " 9   Sp. Def     800 non-null    int64 \n",
      " 10  Speed       800 non-null    int64 \n",
      " 11  Generation  800 non-null    int64 \n",
      " 12  Legendary   800 non-null    bool  \n",
      "dtypes: bool(1), int64(9), object(3)\n",
      "memory usage: 75.9+ KB\n"
     ]
    }
   ],
   "source": [
    "import pandas as pd\n",
    "df = pd.read_csv(\"Python/pokemon.csv\")\n",
    "df.columns\n",
    "print(df.iloc[0:3,3:6])\n",
    "df[[\"Name\", \"Type 1\"]][-5:]\n",
    "df[df[\"Type 1\"] == \"Fire\"]\n",
    "df.describe\n",
    "df.info()"
   ]
  },
  {
   "cell_type": "code",
   "execution_count": 48,
   "metadata": {},
   "outputs": [
    {
     "name": "stdout",
     "output_type": "stream",
     "text": [
      "HE has 123 apples. B has 1234 apples. together they have 1357 apples\n",
      "['H', 'E', ' ', 'h', 'a', 's', ' ', '1', '2', '3', ' ', 'a', 'p', 'p', 'l', 'e', 's', '.', ' ', 'B', ' ', 'h', 'a', 's', ' ', '1', '2', '3', '4', ' ', 'a', 'p', 'p', 'l', 'e', 's', '.', ' ', 't', 'o', 'g', 'e', 't', 'h', 'e', 'r', ' ', 't', 'h', 'e', 'y', ' ', 'h', 'a', 'v', 'e', ' ', '1', '3', '5', '7', ' ', 'a', 'p', 'p', 'l', 'e', 's']\n",
      "['H', 'E', 'm', 'h', 'a', 's', ' ', '1', '2', '3', ' ', 'a', 'p', 'p', 'l', 'e', 's', '.', ' ', 'B', ' ', 'h', 'a', 's', ' ', '1', '2', '3', '4', ' ', 'a', 'p', 'p', 'l', 'e', 's', '.', ' ', 't', 'o', 'g', 'e', 't', 'h', 'e', 'r', ' ', 't', 'h', 'e', 'y', ' ', 'h', 'a', 'v', 'e', ' ', '1', '3', '5', '7', ' ', 'a', 'p', 'p', 'l', 'e', 's']\n",
      "['2', '1', '3', '1', '2', '3', 's', ' ', '1', '2', '3', ' ', 'a', 'p', 'p', 'l', 'e', 's', '.', ' ', 'B', ' ', 'h', 'a', 's', ' ', '1', '2', '3', '4', ' ', 'a', 'p', 'p', 'l', 'e', 's', '.', ' ', 't', 'o', 'g', 'e', 't', 'h', 'e', 'r', ' ', 't', 'h', 'e', 'y', ' ', 'h', 'a', 'v', 'e', ' ', '1', '3', '5', '7', ' ', 'a', 'p', 'p', 'l', 'e', 's']\n"
     ]
    },
    {
     "data": {
      "text/plain": [
       "NoneType"
      ]
     },
     "execution_count": 48,
     "metadata": {},
     "output_type": "execute_result"
    }
   ],
   "source": [
    "a=123\n",
    "b=1234\n",
    "c=f\"HE has {a} apples. B has {b} apples. together they have {a+b} apples\"\n",
    "print(c)\n",
    "c=list(c)\n",
    "print(c)\n",
    "c[2]=\"m\"\n",
    "print(c)\n",
    "c[:5]=\"213123\"\n",
    "print(c)\n"
   ]
  },
  {
   "cell_type": "code",
   "execution_count": 58,
   "metadata": {},
   "outputs": [
    {
     "name": "stdout",
     "output_type": "stream",
     "text": [
      "True\n",
      "False\n"
     ]
    }
   ],
   "source": [
    "x=1\n",
    "(x % 2)==0\n",
    "y=4\n",
    "import math\n",
    "print(not(math.isclose(x,y,abs_tol=0.9)))\n",
    "print(isinstance(x,bool) or isinstance(x,float))"
   ]
  },
  {
   "cell_type": "code",
   "execution_count": 20,
   "metadata": {},
   "outputs": [
    {
     "name": "stdout",
     "output_type": "stream",
     "text": [
      "False\n",
      "False\n",
      "True\n"
     ]
    },
    {
     "data": {
      "text/plain": [
       "'Today we looked at how to use f-strings. x = 8 is defined earlier in the code.'"
      ]
     },
     "execution_count": 20,
     "metadata": {},
     "output_type": "execute_result"
    }
   ],
   "source": [
    "x=7\n",
    "x%2 == 0\n",
    "y=7.8\n",
    "import math \n",
    "print(not(math.isclose(x,y,abs_tol=0.9) and x > 0))\n",
    "print(isinstance(x,bool) or isinstance(x,float))\n",
    "y=x\n",
    "print(x is y)\n",
    "x+=1\n",
    "x is y\n",
    "z=f'''Today we looked at how to use f-strings. x = {x} is defined earlier in the code.'''"
   ]
  },
  {
   "cell_type": "code",
   "execution_count": 64,
   "metadata": {},
   "outputs": [
    {
     "name": "stdout",
     "output_type": "stream",
     "text": [
      "a is an empty List []\n",
      "b is a non empty list with member of different object types. [3, 'Hello', True, False, 5.0, True]\n",
      "Note that while printing b, its members are evaluated and only the result is being stored\n",
      "['b', ' ', 'i', 's', ' ', 'a', ' ', 'n', 'o', 'n', ' ', 'e', 'm', 'p', 't', 'y', ' ', 'l', 'i', 's', 't', ' ', 'w', 'i', 't', 'h', ' ', 'm', 'e', 'm', 'b', 'e', 'r', ' ', 'o', 'f', ' ', 'd', 'i', 'f', 'f', 'e', 'r', 'e', 'n', 't', ' ', 'o', 'b', 'j', 'e', 'c', 't', ' ', 't', 'y', 'p', 'e', 's', '.', ' ', '[', '3', ',', ' ', \"'\", 'H', 'e', 'l', 'l', 'o', \"'\", ',', ' ', 'T', 'r', 'u', 'e', ',', ' ', 'F', 'a', 'l', 's', 'e', ',', ' ', '5', '.', '0', ',', ' ', 'T', 'r', 'u', 'e', ']', '\\n', 'N', 'o', 't', 'e', ' ', 't', 'h', 'a', 't', ' ', 'w', 'h', 'i', 'l', 'e', ' ', 'p', 'r', 'i', 'n', 't', 'i', 'n', 'g', ' ', 'b', ',', ' ', 'i', 't', 's', ' ', 'm', 'e', 'm', 'b', 'e', 'r', 's', ' ', 'a', 'r', 'e', ' ', 'e', 'v', 'a', 'l', 'u', 'a', 't', 'e', 'd', ' ', 'a', 'n', 'd', ' ', 'o', 'n', 'l', 'y', ' ', 't', 'h', 'e', ' ', 'r', 'e', 's', 'u', 'l', 't', ' ', 'i', 's', ' ', 'b', 'e', 'i', 'n', 'g', ' ', 's', 't', 'o', 'r', 'e', 'd']\n",
      "Length of z is 187 and length of y is 1085\n",
      "Their combined length is 1272\n",
      "Accessing first, mid and last elements of list b:\n",
      "First = 3\n",
      "Mid = False\n",
      "Last = True \n",
      "Lists can be mutated. Here we have b: [3, 'Hello', True, False, 5.0, True]\n",
      "\n",
      "We can replace individual elements in the list.\n",
      "[3, 'Hi', True, False, 5.0, True]\n",
      "\n",
      "Or we can replace multiple elements at once using the slicing list slicing syntax\n",
      "['1', '-2', '2', True, 5.0, True]\n",
      "\n",
      "We can also use append and extend list functions to add one element at the end or multiple items at the end respectively.\n",
      "['1', '-2', '2', True, 5.0, True, '-1']\n",
      "['1', '-2', '2', True, 5.0, True, '-1', -1, -2, True]\n",
      "\n",
      "Similarly, we can remove elements as well. The built in pop function will remove the elements based on the position of the item or the item itself.\n",
      "['1', '-2', '2', True, 5.0, True, '-1', -1, True]\n",
      "['1', '-2', '2', 5.0, True, '-1', -1, True]\n",
      "Note how remove function is only removing the first occurence of the element\n",
      "[None]\n"
     ]
    }
   ],
   "source": [
    "#Lists\n",
    "a=[]\n",
    "print(\"a is an empty List\",a)\n",
    "import math\n",
    "b=[3,\"Hello\",True,2>3,math.sqrt(25),math.isclose(7.5, 7.55, abs_tol=0.1)]\n",
    "x=f'''b is a non empty list with member of different object types. {b}\n",
    "Note that while printing b, its members are evaluated and only the result is being stored'''\n",
    "print(x)\n",
    "z=list(x)\n",
    "y=f'''We can use the list(<object>) type to convert any iterable object into a list. \n",
    "for instance, we will convert the above printed string into a list z\n",
    "{z}'''\n",
    "print(z)\n",
    "print(f'Length of z is {len(z)} and length of y is {len(y)}\\nTheir combined length is {len(z) + len(y)}')\n",
    "print(f'''Accessing first, mid and last elements of list b:\n",
    "First = {b[0]}\n",
    "Mid = {b[len(b)//2]}\n",
    "Last = {b[len(b)-1]} ''')\n",
    "print(f'''Lists can be mutated. Here we have b: {b}\n",
    "\n",
    "We can replace individual elements in the list.''')\n",
    "b[1] = 'Hi'\n",
    "print(f'''{b}\n",
    "\n",
    "Or we can replace multiple elements at once using the list slicing syntax''')\n",
    "b[0:4] = ['1','-2','2',True]\n",
    "print(f'''{b}\n",
    "\n",
    "We can also use append and extend list functions to add one element at the end or multiple items at the end respectively.''')\n",
    "b.append('-1')\n",
    "print(b)\n",
    "b.extend([-1,-2,True])\n",
    "print(f'''{b}\n",
    "\n",
    "Similarly, we can remove elements as well. The built in pop function will remove the elements based on the position of the item or the item itself.''')\n",
    "b.pop(-2)\n",
    "print(b)\n",
    "b.remove(True)\n",
    "print(f'''{b}\n",
    "Note how remove function is only removing the first occurence of the element''')\n",
    "k=[None]\n",
    "print(k)\n"
   ]
  },
  {
   "cell_type": "code",
   "execution_count": 80,
   "metadata": {},
   "outputs": [
    {
     "name": "stdout",
     "output_type": "stream",
     "text": [
      "Boolean objects True and False are associated with int values 1 and 0 respectively.\n",
      "True = 1 and False = 0\n",
      "Similarly, non Boolean objects are also associated with boolean values True and False.\n",
      "For instance, 0 is False and non zero numbers are True.\n",
      "-3 is True, -1 is True\n",
      "\n",
      "Similarly, None is False, empty list is False, empty string is False or any empty sequence is False.\n",
      "And non zero numbers of any type like, -1 is True, -1.0 is True, -1j is True\n",
      "Non empty sequences like List is True, String is True\n",
      "\n"
     ]
    }
   ],
   "source": [
    "#Boolean values of non-boolean objects\n",
    "print(f'''Boolean objects True and False are associated with int values 1 and 0 respectively.\n",
    "True = {int(True)} and False = {int(False)}\n",
    "Similarly, non Boolean objects are also associated with boolean values True and False.\n",
    "For instance, 0 is {bool(0)} and non zero numbers are True.\n",
    "-3 is {bool(-3)}, -1 is {bool(-1)}\n",
    "\n",
    "Similarly, None is {bool(None)}, empty list is {bool([])}, empty string is {bool('')} or any empty sequence is False.\n",
    "And non zero numbers of any type like, -1 is {bool(-1)}, -1.0 is {bool(-1.0)}, -1j is {bool(-1j)}\n",
    "Non empty sequences like List is {bool([1.1,2,4])}, String is {bool('asd')}\n",
    "''')"
   ]
  },
  {
   "cell_type": "code",
   "execution_count": 90,
   "metadata": {},
   "outputs": [
    {
     "name": "stdout",
     "output_type": "stream",
     "text": [
      "Basic syntax of if elif and else is as follows:\n",
      "if <expression_1>:\n",
      "    the code within this indented block is executed if..\n",
      "    - bool(<expression_1>) is True\n",
      "elif <expression_2>:\n",
      "    the code within this indented block is executed if..\n",
      "     - bool(<expression_1>) was False \n",
      "     - bool(<expression_2>) is True\n",
      "...\n",
      "...\n",
      "elif <expression_n>:\n",
      "    the code within this indented block is executed if..\n",
      "      - bool(<expression_1>) was False\n",
      "      - bool(<expression_2>) was False\n",
      "      ...\n",
      "      ...\n",
      "      - bool(<expression_n-1>) was False\n",
      "      - bool(<expression_n>) is True\n",
      "else:\n",
      "    the code within this indented block is executed only if \n",
      "    all preceding expressions were False\n",
      "\n"
     ]
    }
   ],
   "source": [
    "#if else and elif\n",
    "print(f'''Basic syntax of if elif and else is as follows:\n",
    "if <expression_1>:\n",
    "    the code within this indented block is executed if..\n",
    "    - bool(<expression_1>) is True\n",
    "elif <expression_2>:\n",
    "    the code within this indented block is executed if..\n",
    "     - bool(<expression_1>) was False \n",
    "     - bool(<expression_2>) is True\n",
    "...\n",
    "...\n",
    "elif <expression_n>:\n",
    "    the code within this indented block is executed if..\n",
    "      - bool(<expression_1>) was False\n",
    "      - bool(<expression_2>) was False\n",
    "      ...\n",
    "      ...\n",
    "      - bool(<expression_n-1>) was False\n",
    "      - bool(<expression_n>) is True\n",
    "else:\n",
    "    the code within this indented block is executed only if \n",
    "    all preceding expressions were False\n",
    "''')"
   ]
  },
  {
   "cell_type": "code",
   "execution_count": 91,
   "metadata": {},
   "outputs": [
    {
     "name": "stdout",
     "output_type": "stream",
     "text": [
      "None\n",
      "Here, since u is an empty list, its associated boolean value is False. Boolean on u is False. Hence, the code inside the if block is not executed.\n",
      "code\n"
     ]
    }
   ],
   "source": [
    "#Reading exercise if elif else\n",
    "# u=[1,2,3,4]\n",
    "u=[]\n",
    "first_element = None\n",
    "if u:\n",
    "    print('sldfh')\n",
    "    first_element = u[0]\n",
    "print(first_element)\n",
    "print(f\"Here, since u is an empty list, its associated boolean value is False. Boolean on u is {bool(u)}. Hence, the code inside the if block is not executed.\")\n",
    "my_file = 'code.py'\n",
    "if \".\" in my_file:\n",
    "    a=my_file.index('.')\n",
    "    file_name = my_file[:a]\n",
    "else:\n",
    "    file_name = my_file\n",
    "print(file_name)"
   ]
  }
 ],
 "metadata": {
  "kernelspec": {
   "display_name": "base",
   "language": "python",
   "name": "python3"
  },
  "language_info": {
   "codemirror_mode": {
    "name": "ipython",
    "version": 3
   },
   "file_extension": ".py",
   "mimetype": "text/x-python",
   "name": "python",
   "nbconvert_exporter": "python",
   "pygments_lexer": "ipython3",
   "version": "3.9.12"
  },
  "orig_nbformat": 4
 },
 "nbformat": 4,
 "nbformat_minor": 2
}
