{
 "cells": [
  {
   "cell_type": "code",
   "execution_count": 22,
   "metadata": {},
   "outputs": [
    {
     "name": "stdout",
     "output_type": "stream",
     "text": [
      "gniht.a.era.secaps.taht.erawa.ma.I\n",
      "Ia.wr.htsae.r..hn\n",
      "tac\n",
      "0\n",
      "8\n",
      "(2, 4, 6)\n",
      "(2, 4, 6)\n",
      "(4,)\n",
      "4\n",
      "4\n",
      "(6, 8)\n",
      "(2, 6)\n",
      "(8, 6, 4, 2)\n"
     ]
    },
    {
     "ename": "TypeError",
     "evalue": "'tuple' object does not support item assignment",
     "output_type": "error",
     "traceback": [
      "\u001b[1;31m---------------------------------------------------------------------------\u001b[0m",
      "\u001b[1;31mTypeError\u001b[0m                                 Traceback (most recent call last)",
      "\u001b[1;32mc:\\Users\\Dell\\Documents\\Python Scripts\\28082023.ipynb Cell 1\u001b[0m line \u001b[0;36m<cell line: 34>\u001b[1;34m()\u001b[0m\n\u001b[0;32m     <a href='vscode-notebook-cell:/c%3A/Users/Dell/Documents/Python%20Scripts/28082023.ipynb#W0sZmlsZQ%3D%3D?line=31'>32</a>\u001b[0m a\u001b[39m=\u001b[39m(\u001b[39m1\u001b[39m, \u001b[39m2\u001b[39m, \u001b[39m5\u001b[39m, \u001b[39m0\u001b[39m, \u001b[39m5\u001b[39m)\n\u001b[0;32m     <a href='vscode-notebook-cell:/c%3A/Users/Dell/Documents/Python%20Scripts/28082023.ipynb#W0sZmlsZQ%3D%3D?line=32'>33</a>\u001b[0m y\u001b[39m=\u001b[39ma\u001b[39m.\u001b[39mindex(\u001b[39m5\u001b[39m)\n\u001b[1;32m---> <a href='vscode-notebook-cell:/c%3A/Users/Dell/Documents/Python%20Scripts/28082023.ipynb#W0sZmlsZQ%3D%3D?line=33'>34</a>\u001b[0m a[y]\u001b[39m=\u001b[39m\u001b[39m-\u001b[39m\u001b[39m5\u001b[39m\n",
      "\u001b[1;31mTypeError\u001b[0m: 'tuple' object does not support item assignment"
     ]
    }
   ],
   "source": [
    "str1='cat'\n",
    "str1.center(11,' ')\n",
    "str1.center(11,'-')\n",
    "str2='I.am.aware.that.spaces.are.a.thing'\n",
    "\n",
    "str3=str1+str2\n",
    "str3\n",
    "\n",
    "print(str2[::-1])\n",
    "str2[slice(None,None,-1)]\n",
    "reverseStr2=str2[slice(None,None,-1)]\n",
    "alternateStr2=str2[slice(None,None,2)]\n",
    "print(alternateStr2)\n",
    "\n",
    "\n",
    "reversestr1=str1[slice(None,None,-1)]\n",
    "print(reversestr1)\n",
    "\n",
    "x = (0, 2, 4, 6, 8)\n",
    "print(x[0])\n",
    "print(x[-1])\n",
    "print(x[1:-1])\n",
    "print(x[1:-1])\n",
    "print(x[2:3])\n",
    "print(x[2])\n",
    "print(x[-3])\n",
    "print(x[-2:])\n",
    "print(x[1:-1:2])\n",
    "print(x[-1:0:-1])\n",
    "str3='blogosphere'\n",
    "str3[::2]*5"
   ]
  }
 ],
 "metadata": {
  "kernelspec": {
   "display_name": "base",
   "language": "python",
   "name": "python3"
  },
  "language_info": {
   "codemirror_mode": {
    "name": "ipython",
    "version": 3
   },
   "file_extension": ".py",
   "mimetype": "text/x-python",
   "name": "python",
   "nbconvert_exporter": "python",
   "pygments_lexer": "ipython3",
   "version": "3.9.12"
  },
  "orig_nbformat": 4
 },
 "nbformat": 4,
 "nbformat_minor": 2
}
