{
 "cells": [
  {
   "cell_type": "code",
   "execution_count": 1,
   "id": "cb823dbc-34cd-472c-b929-9f62b8ce0af7",
   "metadata": {},
   "outputs": [
    {
     "name": "stdout",
     "output_type": "stream",
     "text": [
      "My first name is Kumar and last name is Rishi\n"
     ]
    }
   ],
   "source": [
    "first_name = 'Rishi'\n",
    "last_name = 'Kumar'\n",
    "print(\"My first name is {} and last name is {}\".format(last_name,first_name))"
   ]
  },
  {
   "cell_type": "code",
   "execution_count": 2,
   "id": "e7b3be98-b320-4475-87c3-c7d6cbe84281",
   "metadata": {},
   "outputs": [
    {
     "name": "stdout",
     "output_type": "stream",
     "text": [
      "My first name is Rishi and last name is Kumar\n"
     ]
    }
   ],
   "source": [
    "first_name = 'Rishi'\n",
    "last_name = 'Kumar'\n",
    "print(\"My first name is {a} and last name is {b}\".format(a=first_name, b=last_name))"
   ]
  },
  {
   "cell_type": "code",
   "execution_count": 3,
   "id": "fa36de22-481c-4ce8-88fa-493d2b508c18",
   "metadata": {},
   "outputs": [
    {
     "name": "stdout",
     "output_type": "stream",
     "text": [
      "['R', 'i', 's', 'h', 'i']\n",
      "['K', 'u', 'm', 'a', 'r']\n",
      "R K\n",
      "i r\n",
      "s a\n",
      "h m\n",
      "i u\n",
      "['K', 'r', 'a', 'm', 'u']\n",
      "['K', 'u', 'm', 'a', 'r']\n",
      "['0', '1', '2', '3', '4', '5', '6', '7', '8', '9', '0', '1', '2', '3', '4', '5', '6', '7', '8', '9', '0', '1', '2', '3', '4', '5', '6', '7', '8', '9', '0', '1', '2', '3', '4', '5', '6', '7', '8', '9']\n",
      "['0', '1', '2', '3', '4', 'r', 'e', 'p', 'l', 'a', 'c', 'i', 'n', 'g', 'V', 'a', 'l', 'u', 'e', '6', '7', '8', '9', '0', '1', '2', '3', '4', '5', '6', '7', '8', '9', '0', '1', '2', '3', '4', '5', '6', '7', '8', '9']\n",
      "['0', '1', '2', '3', '4', 'r', 'e', 'p', 'l', 'a', 'c', 'i', 'n', 'g', 'V', 'a', 'l', 'u', 'e', '6', '7', '8', '9', '0', '1', '2', '3', '4', '5', '6', '7', '8', '9', '0', '1', '2', '3', '4', '5', '6', '7', '8', '9', 'New']\n",
      "['0', '1', '2', '3', '4', 'r', 'e', 'p', 'l', 'a', 'c', 'i', 'n', 'g', 'V', 'a', 'l', 'u', 'e', '6', '7', '8', '9', '0', '1', '2', '3', '4', '5', '6', '7', '8', '9', '0', '1', '2', '3', '4', '5', '6', '7', '8', '9', 'New', 'N', 'e', 'w']\n",
      "['0', '1', '2', '3', '4', 'r', 'e', 'p', 'l', 'a', 'c', 'i', 'n', 'g', 'V', 'a', 'l', 'u', 'e', '6', '7', '8', '9', '0', '1', '2', '3', '4', '5', '6', '7', '8', '9', '0', '1', '2', '3', '4', '5', '6', '7', '8', '9', 'New', 'N', 'e']\n",
      "['0', '1', '2', '3', '4', 'r', 'e', 'p', 'l', 'a', 'c', 'i', 'n', 'g', 'V', 'a', 'l', 'u', 'e', '6', '8', '9', '0', '1', '2', '3', '4', '5', '6', '7', '8', '9', '0', '1', '2', '3', '4', '5', '6', '7', '8', '9', 'New', 'N', 'e']\n",
      "['0', '1', '2', '3', '4', 'r', 'e', 'p', 'l', 'a', 'c', 'i', 'n', 'g', 'V', 'a', 'l', 'u', 'e', '6', '8', '9', '0', '1', '2', '3', '4', '5', '6', '7', '8', '9', '0', '1', '2', '3', '4', '5', '6', '7', '8', '9', 'New', 'e']\n",
      "['0', '1', '2', '3', '4', 'r', 'e', 'p', 'l', 'a', 'c', 'i', 'n', 'g', 'V', 'a', 'l', 'u', 'e', '6', '8', '0', '1', '2', '3', '4', '5', '6', '7', '8', '9', '0', '1', '2', '3', '4', '5', '6', '7', '8', '9', 'New', 'e']\n"
     ]
    }
   ],
   "source": [
    "first_name = 'Rishi'\n",
    "last_name = 'Kumar'\n",
    "first_name_list = list(first_name)\n",
    "# print(first_name_list)\n",
    "last_name_list = list(last_name)\n",
    "# print(last_name_list)\n",
    "fnl=first_name_list\n",
    "lnl=last_name_list\n",
    "print(fnl)\n",
    "print(lnl)\n",
    "\n",
    "for i in fnl:\n",
    "    iIndex=fnl.index(i)\n",
    "    print(fnl[iIndex],lnl[-iIndex])\n",
    "    fnl[iIndex]=lnl[-iIndex]\n",
    "print(fnl)\n",
    "print(lnl)\n",
    "\n",
    "x=list('0123456789012345678901234567890123456789')\n",
    "print(x)\n",
    "x[5:16]='replacingValue'\n",
    "print(x)\n",
    "x.append('New')\n",
    "print(x)\n",
    "\n",
    "x.extend('New')\n",
    "print(x)\n",
    "\n",
    "x.pop()\n",
    "print(x)\n",
    "\n",
    "x.pop(20)\n",
    "print(x)\n",
    "\n",
    "x.remove('N')\n",
    "print(x)\n",
    "\n",
    "x.remove('9')\n",
    "print(x)"
   ]
  },
  {
   "cell_type": "code",
   "execution_count": 4,
   "id": "c4eda19e-b822-4ca2-bcf0-cd6f43eac76b",
   "metadata": {},
   "outputs": [
    {
     "data": {
      "text/plain": [
       "{1, 12, 3, 4, 'R', 'cat', 'h', 'i', 's'}"
      ]
     },
     "execution_count": 4,
     "metadata": {},
     "output_type": "execute_result"
    }
   ],
   "source": [
    "ab={20,40,20,20,40,10}\n",
    "ab=set(first_name)\n",
    "cd=set(lnl)\n",
    "ab.union(cd)\n",
    "ab.update([1,2,3,1,4])\n",
    "ab.update([1,2,'cat',12,4][2:4])\n",
    "ab.remove(2)\n",
    "ab"
   ]
  },
  {
   "cell_type": "code",
   "execution_count": 5,
   "id": "a32333ae-a6be-49f8-bffe-0ced264718b3",
   "metadata": {},
   "outputs": [
    {
     "data": {
      "text/plain": [
       "{'Name': {'firstName': 'Rahul', 'lastName': 'Kumar'},\n",
       " 'dob': {'month': 'Dec', 'year': 1995, 'day': 18},\n",
       " 'gender': 'M',\n",
       " 'address': {'city': 'Delhi'}}"
      ]
     },
     "execution_count": 5,
     "metadata": {},
     "output_type": "execute_result"
    }
   ],
   "source": [
    "c1={'age':20,'Name':'Rishi'}\n",
    "c2=dict(age=21,Name='Ramesh',weight=20)\n",
    "c3=dict(Name=dict(firstName='Rishi',lastName='Kumar'),dob=dict(month='Dec',year=1995,day=18))\n",
    "c1['Name']='Rishi Kumar'\n",
    "c3['Name']['firstName']='Rahul'\n",
    "c3['Name']['lastName']\n",
    "c3['gender']='M'\n",
    "c3['address']={'city':'Delhi'}\n",
    "c3"
   ]
  },
  {
   "cell_type": "code",
   "execution_count": 6,
   "id": "7ffc99d7-d833-4b9f-ae51-c5f63551d5b6",
   "metadata": {},
   "outputs": [
    {
     "data": {
      "text/plain": [
       "array([[1, 2],\n",
       "       [1, 3],\n",
       "       [4, 3],\n",
       "       [4, 5],\n",
       "       [4, 1],\n",
       "       [3, 1],\n",
       "       [2, 4],\n",
       "       [2, 3],\n",
       "       [5, 3],\n",
       "       [1, 2],\n",
       "       [1, 3],\n",
       "       [4, 3],\n",
       "       [4, 5],\n",
       "       [4, 1],\n",
       "       [3, 1],\n",
       "       [2, 4],\n",
       "       [2, 3],\n",
       "       [5, 3]])"
      ]
     },
     "execution_count": 6,
     "metadata": {},
     "output_type": "execute_result"
    }
   ],
   "source": [
    "import numpy as np\n",
    "arr0=np.array(0)\n",
    "arr1=np.array([1,2,1,23,0])\n",
    "arr2=np.array([[1,2,1,2,1],[3,4,3,4,3]])\n",
    "arr3=np.array([[[1,2,1],[3,4,3]],[[4,5,6],[7,8,9]]])\n",
    "arr4=np.array([\n",
    "                [\n",
    "                    [\n",
    "                        [1,2,1],[3,4,3],[4,5,4]\n",
    "                    ],\n",
    "                    [\n",
    "                        [1,3,1],[2,4,2],[3,5,3]\n",
    "                    ]\n",
    "                ],\n",
    "                [\n",
    "                    [\n",
    "                        [1,2,1],[3,4,3],[4,5,4]\n",
    "                    ],\n",
    "                    [\n",
    "                        [1,3,1],[2,4,2],[3,5,3]\n",
    "                    ]\n",
    "                ]\n",
    "])\n",
    "arr4.reshape(18,2)"
   ]
  },
  {
   "cell_type": "code",
   "execution_count": 7,
   "id": "5f3bde5b-83a8-4cfc-8b65-b907a243c9bc",
   "metadata": {},
   "outputs": [
    {
     "name": "stdout",
     "output_type": "stream",
     "text": [
      "[[[21  1  2  3  4  5  6  7  8]\n",
      "  [ 9 10 11 12 13 14 15 16 17]\n",
      "  [18 19 20 21 22 23 24 25 26]]]\n",
      "[[[21  1  2]\n",
      "  [ 3  4  5]\n",
      "  [ 6  7  8]]\n",
      "\n",
      " [[ 9 10 11]\n",
      "  [12 13 14]\n",
      "  [15 16 17]]\n",
      "\n",
      " [[18 19 20]\n",
      "  [21 22 23]\n",
      "  [24 25 26]]]\n"
     ]
    }
   ],
   "source": [
    "arr = np.array([[[ 0,  1,  2],\n",
    "                 [ 3,  4,  5],\n",
    "                 [ 6,  7,  8]],\n",
    "\n",
    "                [[ 9, 10, 11],\n",
    "                 [12, 13, 14],\n",
    "                 [15, 16, 17]],\n",
    "\n",
    "                [[18, 19, 20],\n",
    "                 [21, 22, 23],\n",
    "                 [24, 25, 26]]])\n",
    "# print(arr[:,:,2])\n",
    "# print(arr[:2,1,:])\n",
    "# print(arr[0,:2,2])\n",
    "# print(arr[1,:,::-1])\n",
    "barr=arr.reshape(1,3,9)\n",
    "barr[0,0,0]=21\n",
    "print(barr)\n",
    "print(arr)"
   ]
  },
  {
   "cell_type": "code",
   "execution_count": 19,
   "id": "b02b4daf-0efe-4805-addd-e70e60edbb75",
   "metadata": {},
   "outputs": [
    {
     "data": {
      "text/plain": [
       "array([[-0.17588198,  0.20040682,  0.70535071],\n",
       "       [ 1.69985628, -0.20109027,  0.78425867],\n",
       "       [ 0.93423839, -0.00218995,  0.06212056],\n",
       "       [-0.55141606, -1.3826797 , -0.76182065],\n",
       "       [ 0.07926696, -0.17444304,  0.83298624]])"
      ]
     },
     "execution_count": 19,
     "metadata": {},
     "output_type": "execute_result"
    }
   ],
   "source": [
    "a1=np.ones((1,2))\n",
    "a1=np.zeros((5,1))\n",
    "a2=np.arange(1,20,step=5)\n",
    "a2=np.linspace(1,20,num=50)\n",
    "rng=np.random.default_rng()\n",
    "rng.normal(size=(5,3))"
   ]
  }
 ],
 "metadata": {
  "kernelspec": {
   "display_name": "Python 3 (ipykernel)",
   "language": "python",
   "name": "python3"
  },
  "language_info": {
   "codemirror_mode": {
    "name": "ipython",
    "version": 3
   },
   "file_extension": ".py",
   "mimetype": "text/x-python",
   "name": "python",
   "nbconvert_exporter": "python",
   "pygments_lexer": "ipython3",
   "version": "3.11.7"
  }
 },
 "nbformat": 4,
 "nbformat_minor": 5
}
