{
 "cells": [
  {
   "cell_type": "code",
   "execution_count": 32,
   "id": "8142ac68-3d71-43b7-b51e-dda5247a3882",
   "metadata": {},
   "outputs": [
    {
     "name": "stdout",
     "output_type": "stream",
     "text": [
      "Sets are immutable sequences that allow us to extract unique objects.\n",
      "A set will only contain unique objects and it will ignore redundant objects passed while creating a set\n",
      "\n",
      "A set can be created using {} similar to creating dictionaries. but unlike dictionaries, there is no key value pair.\n",
      "Here, we create a new set using a={1,2,14,0,1,1,2,14} and the resultant set is {0, 1, 2, 14}\n",
      "\n",
      "Just like tuples, list and dictionaries, a set can also be created from other iterables using the set() type.\n",
      "Here we have a string x=\"akshdaksdh\" and we can create a set from it using y=set(x)\n",
      "akshdaksdh\n",
      "{'h', 'd', 's', 'k', 'a'}\n",
      "To create an empty set, set() must be used. {} will create an empty dictionary. e.g. b=set() and result is:\n",
      "set()\n",
      "Sets do not have any mechanism of retrieving a single item from it. There is no index or key in sets.\n"
     ]
    }
   ],
   "source": [
    "#Set definition\n",
    "print('''Sets are immutable, unordered sequences that allow us to extract unique objects.\n",
    "A set will only contain unique objects and it will ignore redundant objects passed while creating a set''')\n",
    "print('''\\nA set can be created using {} similar to creating dictionaries. but unlike dictionaries, there is no key value pair.''')\n",
    "a={1,2,14,0,1,1,2,14}\n",
    "print('Here, we create a new set using a={1,2,14,0,1,1,2,14} and the resultant set is',a)\n",
    "print('\\nJust like tuples, list and dictionaries, a set can also be created from other iterables using the set() type.')\n",
    "print('Here we have a string x=\"akshdaksdh\" and we can create a set from it using y=set(x)')\n",
    "x='akshdaksdh'\n",
    "y=set(x)\n",
    "print(x)\n",
    "print(y)\n",
    "print(\"To create an empty set, set() must be used. {} will create an empty dictionary. e.g. b=set() and result is:\")\n",
    "b=set()\n",
    "print(b)\n",
    "print(\"Sets do not have any mechanism of retrieving a single item from it. There is no index or key in sets.\")\n",
    "# c=\"The cat in the hat\"\n",
    "# c=set(c.lower().replace(' ',''))\n",
    "# print(c)"
   ]
  },
  {
   "cell_type": "code",
   "execution_count": 50,
   "id": "3c63a20a-c5af-4a17-b220-0a3bad0dd6e2",
   "metadata": {},
   "outputs": [
    {
     "name": "stdout",
     "output_type": "stream",
     "text": [
      "Sets allow membership-checking O(1) and iteration O(n). since, sets are unordered, order of iterating over a set is random\n",
      "x\n",
      "c\n",
      "a\n",
      "b\n",
      "The set-arithmetic operations like union, intersection are also possible with sets\n",
      "We have two sets {'x', 'c', 'a', 'b'}  and  {'a', 'z', 'j', 'b'}\n",
      "union of x and y can be achieved using x|y  {'j', 'b', 'x', 'c', 'a', 'z'}  or using x.union(y) {'j', 'b', 'x', 'c', 'a', 'z'}\n",
      "intersection of x and y can be achieved using x&y  {'a', 'b'}  or using x.intersection(y) {'a', 'b'}\n",
      "difference of x and y can be achieved using x-y  {'x', 'c'}  or using x.difference(y) {'x', 'c'}\n",
      "symmetric difference, i.e., in x or y but not in both, can be achieved using x^y {'j', 'x', 'c', 'z'}  or using x.symmetric_difference(y) {'j', 'x', 'c', 'z'}\n",
      "Checking if x is a superset of y using x>=y False\n",
      "Checking if x and y are equivalent sets using x==y False\n"
     ]
    }
   ],
   "source": [
    "#Set operations\n",
    "print(\"Sets allow membership-checking O(1) and iteration O(n). since, sets are unordered, order of iterating over a set is random\")\n",
    "x={'a','b','c','x'}\n",
    "for i in x:\n",
    "    print(i)\n",
    "print(\"The set-arithmetic operations like union, intersection are also possible with sets\")\n",
    "y={'a','b','z','j'}\n",
    "print(\"We have two sets\", x,\" and \",y)\n",
    "print(\"union of x and y can be achieved using x|y \",x|y,\" or using x.union(y)\", x.union(y))\n",
    "print(\"intersection of x and y can be achieved using x&y \",x&y,\" or using x.intersection(y)\", x.intersection(y))\n",
    "print(\"difference of x and y can be achieved using x-y \",x-y,\" or using x.difference(y)\", x.difference(y))\n",
    "print(\"symmetric difference, i.e., in x or y but not in both, can be achieved using x^y\",x^y,\" or using x.symmetric_difference(y)\",x.symmetric_difference(y))\n",
    "print(\"Checking if x is a superset of y using x>=y\", x>=y)\n",
    "print(\"Checking if x and y are equivalent sets using x==y\",x==y)"
   ]
  },
  {
   "cell_type": "code",
   "execution_count": 65,
   "id": "9785637b-0a11-4f88-bbdf-cf2d4a4c970c",
   "metadata": {},
   "outputs": [
    {
     "name": "stdout",
     "output_type": "stream",
     "text": [
      "sets are mutable meaning their contents can be updated.\n",
      "Here we have a set x={1,1,2,2,4,'abc'} {1, 2, 4, 'abc'}\n",
      "we can add a single element using x.add('dog') {1, 'dog', 2, 4, 'abc'}\n",
      "We can add multiple elements using an iterable like x.update('cat') {1, 'dog', 2, 4, 'abc', 'c', 'a', 't'}\n",
      "{1, 'dog', 2, 4, 'abc', 'c', 'a', 'ele', 't', 24, 'cat'}\n",
      "we can remove an element using x.remove(24) {1, 'dog', 2, 4, 'abc', 'c', 'a', 'ele', 't', 'cat'}\n"
     ]
    }
   ],
   "source": [
    "#Sets are mutable\n",
    "print(\"sets are mutable meaning their contents can be updated.\")\n",
    "x={1,1,2,2,4,'abc'}\n",
    "print(\"Here we have a set x={1,1,2,2,4,'abc'}\",x)\n",
    "\n",
    "x.add(\"dog\")\n",
    "print(\"we can add a single element using x.add('dog')\",x)\n",
    "\n",
    "x.update(\"cat\")\n",
    "print(\"We can add multiple elements using an iterable like x.update('cat')\",x)\n",
    "\n",
    "x.update([1,1,24,'cat','ele'])\n",
    "print(x)\n",
    "\n",
    "x.remove(24)\n",
    "print(\"we can remove an element using x.remove(24)\",x)"
   ]
  },
  {
   "cell_type": "code",
   "execution_count": 9,
   "id": "b14664c7-1090-4082-83bd-be4bc59a6c6b",
   "metadata": {},
   "outputs": [
    {
     "name": "stdout",
     "output_type": "stream",
     "text": [
      "Suresh\n",
      "Name1\n",
      "Name2\n",
      "Name1\n",
      "Name2\n",
      "Ramesh\n",
      "Suresh\n",
      "('Name1', 'Ramesh')\n",
      "('Name2', 'Suresh')\n"
     ]
    }
   ],
   "source": [
    "#Dictionaries\n",
    "\n",
    "#traversing through a dictionary\n",
    "dictexample1={'Name1':'Ramesh','Name2':'Suresh'}\n",
    "print(dictexample1['Name2'])\n",
    "for x in dictexample1:\n",
    "    print(x)\n",
    "for y in dictexample1.keys():\n",
    "    print(y)\n",
    "for z in dictexample1.values():\n",
    "    print(z)\n",
    "for a in dictexample1.items():\n",
    "    print(a)"
   ]
  },
  {
   "cell_type": "code",
   "execution_count": 10,
   "id": "4c3f6d7c-d2f0-4cdd-ab87-e89f04c6b125",
   "metadata": {},
   "outputs": [
    {
     "name": "stdout",
     "output_type": "stream",
     "text": [
      "{'Name1': 'Ramesh', 'Name2': 'Suresh', 'Name3': 'Rahul'}\n",
      "{'Name1': 'Mahesh', 'Name2': 'Suresh', 'Name3': 'Rahul'}\n",
      "{'Name1': 'Rahul', 'Name2': 'Ramesh', 'Name3': 'Mahesh', 'Name4': 'Vijay'}\n"
     ]
    }
   ],
   "source": [
    "#adding a key-value pair in the dictionary\n",
    "dictexample1['Name3']='Rahul'\n",
    "print(dictexample1)\n",
    "\n",
    "#updating a key-value pair\n",
    "dictexample1['Name1']='Mahesh'\n",
    "print(dictexample1)\n",
    "\n",
    "#Using dict() to create a dictionary\n",
    "dictexample2=dict(Name1='Rahul',Name2='Ramesh',Name3='Mahesh',Name4='Vijay')\n",
    "print(dictexample2)\n"
   ]
  },
  {
   "cell_type": "code",
   "execution_count": 12,
   "id": "9e775e99-12b0-41a0-96af-eb24bee79332",
   "metadata": {},
   "outputs": [
    {
     "name": "stdout",
     "output_type": "stream",
     "text": [
      "{'Name': {'Name1': 'Rahul', 'Name2': 'Suresh'}, 'age': {'age1': 20, 'age2': 30}}\n",
      "Rahul\n",
      "Rahul  is aged  20\n",
      "{'Name': {'Name1': 'Rahul', 'Name2': 'Suresh', 'Name3': 'Kunal'}, 'age': {'age1': 20, 'age2': 30, 'age3': 30}}\n",
      "{'Name': {'Name1': 'Rahul', 'Name2': 'Suresh', 'Name3': 'Kunal'}, 'age': {'age1': 20, 'age2': 35, 'age3': 30}}\n",
      "{'name': {'first': 'John', 'second': 'raj', 'third': 'Ramesh'}, 'age': {'third': 30, 'fourth': 40, 'first': 20}}\n"
     ]
    }
   ],
   "source": [
    "#Nested dictionary\n",
    "dictexample3={\"Name\":{\"Name1\":\"Rahul\",\"Name2\":\"Suresh\"},\"age\":{\"age1\":20,\"age2\":30}}\n",
    "print(dictexample3)\n",
    "\n",
    "#traversing in a nested dictionary\n",
    "print(dictexample3[\"Name\"][\"Name1\"])\n",
    "\n",
    "print(dictexample3[\"Name\"][\"Name1\"],\" is aged \",dictexample3[\"age\"][\"age1\"])\n",
    "\n",
    "#adding an item in a nested dictionary\n",
    "dictexample3[\"Name\"][\"Name3\"]=\"Kunal\"\n",
    "dictexample3[\"age\"][\"age3\"]=30\n",
    "print(dictexample3)\n",
    "\n",
    "#Updating an item in a nested dictionary\n",
    "dictexample3[\"age\"][\"age2\"]=35\n",
    "print(dictexample3)\n",
    "\n",
    "dictexample = dict(name=dict(first='John',second=\"raj\"),age=dict(first=20,second=21))\n",
    "dictexample['age'] = dict(third=30, fourth = 40)\n",
    "dictexample['age']['first']=20\n",
    "dictexample['name']['third']='Ramesh'\n",
    "print(dictexample)"
   ]
  }
 ],
 "metadata": {
  "kernelspec": {
   "display_name": "Python 3 (ipykernel)",
   "language": "python",
   "name": "python3"
  },
  "language_info": {
   "codemirror_mode": {
    "name": "ipython",
    "version": 3
   },
   "file_extension": ".py",
   "mimetype": "text/x-python",
   "name": "python",
   "nbconvert_exporter": "python",
   "pygments_lexer": "ipython3",
   "version": "3.11.7"
  }
 },
 "nbformat": 4,
 "nbformat_minor": 5
}
